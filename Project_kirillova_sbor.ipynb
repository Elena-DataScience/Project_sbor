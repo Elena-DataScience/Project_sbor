{
 "cells": [
  {
   "cell_type": "markdown",
   "metadata": {},
   "source": [
    "#  Исследование об успешности игры для планировния рекламной кампании.\n",
    "\n",
    "Вы работаете в интернет-магазине «Стримчик», который продаёт по всему миру компьютерные игры. Из открытых источников доступны исторические данные о продажах игр, оценки пользователей и экспертов, жанры и платформы (например, Xbox или PlayStation). Вам нужно выявить определяющие успешность игры закономерности. Это позволит сделать ставку на потенциально популярный продукт и спланировать рекламные кампании.\n",
    "\n",
    "Перед вами данные до 2016 года. Представим, что сейчас декабрь 2016 г., и вы планируете кампанию на 2017-й. Нужно отработать принцип работы с данными. Неважно, прогнозируете ли вы продажи на 2017 год по данным 2016-го или же 2027-й — по данным 2026 года.\n",
    "\n",
    "В наборе данных попадается аббревиатура ESRB (Entertainment Software Rating Board) — это ассоциация, определяющая возрастной рейтинг компьютерных игр. ESRB оценивает игровой контент и присваивает ему подходящую возрастную категорию, например, «Для взрослых», «Для детей младшего возраста» или «Для подростков». "
   ]
  },
  {
   "cell_type": "markdown",
   "metadata": {},
   "source": [
    "# Описание данных\n",
    "\n",
    "`Name` — название игры\n",
    "\n",
    "`Platform` — платформа\n",
    "\n",
    "`Year_of_Release` — год выпуска\n",
    "\n",
    "`Genre` — жанр игры\n",
    "\n",
    "`NA_sales` — продажи в Северной Америке (миллионы проданных копий)\n",
    "\n",
    "`EU_sales` — продажи в Европе (миллионы проданных копий)\n",
    "\n",
    "`JP_sales` — продажи в Японии (миллионы проданных копий)\n",
    "\n",
    "`Other_sales` — продажи в других странах (миллионы проданных копий)\n",
    "\n",
    "`Critic_Score` — оценка критиков (максимум 100)\n",
    "\n",
    "`User_Score` — оценка пользователей (максимум 10)\n",
    "\n",
    "`Rating` — рейтинг от организации ESRB (англ. Entertainment Software Rating Board). Эта ассоциация определяет рейтинг компьютерных игр и присваивает им подходящую возрастную категорию.\n",
    "\n",
    "Данные за 2016 год могут быть неполными."
   ]
  },
  {
   "cell_type": "markdown",
   "metadata": {},
   "source": [
    "## Изучение общей информации\n",
    "\n",
    "**Импортируем необходимые библиотеки. Считаем данные из csv-файла в датафрейм и сохраним в переменную `games`. Путь к файлу:**\n",
    "\n",
    "`/datasets/games.csv`"
   ]
  },
  {
   "cell_type": "code",
   "execution_count": 1,
   "metadata": {},
   "outputs": [],
   "source": [
    "import pandas as pd\n",
    "import numpy as np\n",
    "import matplotlib.pyplot as plt\n",
    "import seaborn as sns\n",
    "from scipy import stats as st"
   ]
  },
  {
   "cell_type": "code",
   "execution_count": 2,
   "metadata": {},
   "outputs": [],
   "source": [
    "try:\n",
    "    games = pd.read_csv('/datasets/games.csv')\n",
    "except:\n",
    "    games = pd.read_csv('games.csv')"
   ]
  },
  {
   "cell_type": "markdown",
   "metadata": {},
   "source": [
    "**Выведем первые 10 строчек датафрейма `games` на экран и выведем основную информацию о датасете с помощью метода `info()`**"
   ]
  },
  {
   "cell_type": "code",
   "execution_count": 3,
   "metadata": {},
   "outputs": [
    {
     "data": {
      "text/html": [
       "<div>\n",
       "<style scoped>\n",
       "    .dataframe tbody tr th:only-of-type {\n",
       "        vertical-align: middle;\n",
       "    }\n",
       "\n",
       "    .dataframe tbody tr th {\n",
       "        vertical-align: top;\n",
       "    }\n",
       "\n",
       "    .dataframe thead th {\n",
       "        text-align: right;\n",
       "    }\n",
       "</style>\n",
       "<table border=\"1\" class=\"dataframe\">\n",
       "  <thead>\n",
       "    <tr style=\"text-align: right;\">\n",
       "      <th></th>\n",
       "      <th>Name</th>\n",
       "      <th>Platform</th>\n",
       "      <th>Year_of_Release</th>\n",
       "      <th>Genre</th>\n",
       "      <th>NA_sales</th>\n",
       "      <th>EU_sales</th>\n",
       "      <th>JP_sales</th>\n",
       "      <th>Other_sales</th>\n",
       "      <th>Critic_Score</th>\n",
       "      <th>User_Score</th>\n",
       "      <th>Rating</th>\n",
       "    </tr>\n",
       "  </thead>\n",
       "  <tbody>\n",
       "    <tr>\n",
       "      <th>0</th>\n",
       "      <td>Wii Sports</td>\n",
       "      <td>Wii</td>\n",
       "      <td>2006.0</td>\n",
       "      <td>Sports</td>\n",
       "      <td>41.36</td>\n",
       "      <td>28.96</td>\n",
       "      <td>3.77</td>\n",
       "      <td>8.45</td>\n",
       "      <td>76.0</td>\n",
       "      <td>8</td>\n",
       "      <td>E</td>\n",
       "    </tr>\n",
       "    <tr>\n",
       "      <th>1</th>\n",
       "      <td>Super Mario Bros.</td>\n",
       "      <td>NES</td>\n",
       "      <td>1985.0</td>\n",
       "      <td>Platform</td>\n",
       "      <td>29.08</td>\n",
       "      <td>3.58</td>\n",
       "      <td>6.81</td>\n",
       "      <td>0.77</td>\n",
       "      <td>NaN</td>\n",
       "      <td>NaN</td>\n",
       "      <td>NaN</td>\n",
       "    </tr>\n",
       "    <tr>\n",
       "      <th>2</th>\n",
       "      <td>Mario Kart Wii</td>\n",
       "      <td>Wii</td>\n",
       "      <td>2008.0</td>\n",
       "      <td>Racing</td>\n",
       "      <td>15.68</td>\n",
       "      <td>12.76</td>\n",
       "      <td>3.79</td>\n",
       "      <td>3.29</td>\n",
       "      <td>82.0</td>\n",
       "      <td>8.3</td>\n",
       "      <td>E</td>\n",
       "    </tr>\n",
       "    <tr>\n",
       "      <th>3</th>\n",
       "      <td>Wii Sports Resort</td>\n",
       "      <td>Wii</td>\n",
       "      <td>2009.0</td>\n",
       "      <td>Sports</td>\n",
       "      <td>15.61</td>\n",
       "      <td>10.93</td>\n",
       "      <td>3.28</td>\n",
       "      <td>2.95</td>\n",
       "      <td>80.0</td>\n",
       "      <td>8</td>\n",
       "      <td>E</td>\n",
       "    </tr>\n",
       "    <tr>\n",
       "      <th>4</th>\n",
       "      <td>Pokemon Red/Pokemon Blue</td>\n",
       "      <td>GB</td>\n",
       "      <td>1996.0</td>\n",
       "      <td>Role-Playing</td>\n",
       "      <td>11.27</td>\n",
       "      <td>8.89</td>\n",
       "      <td>10.22</td>\n",
       "      <td>1.00</td>\n",
       "      <td>NaN</td>\n",
       "      <td>NaN</td>\n",
       "      <td>NaN</td>\n",
       "    </tr>\n",
       "    <tr>\n",
       "      <th>5</th>\n",
       "      <td>Tetris</td>\n",
       "      <td>GB</td>\n",
       "      <td>1989.0</td>\n",
       "      <td>Puzzle</td>\n",
       "      <td>23.20</td>\n",
       "      <td>2.26</td>\n",
       "      <td>4.22</td>\n",
       "      <td>0.58</td>\n",
       "      <td>NaN</td>\n",
       "      <td>NaN</td>\n",
       "      <td>NaN</td>\n",
       "    </tr>\n",
       "    <tr>\n",
       "      <th>6</th>\n",
       "      <td>New Super Mario Bros.</td>\n",
       "      <td>DS</td>\n",
       "      <td>2006.0</td>\n",
       "      <td>Platform</td>\n",
       "      <td>11.28</td>\n",
       "      <td>9.14</td>\n",
       "      <td>6.50</td>\n",
       "      <td>2.88</td>\n",
       "      <td>89.0</td>\n",
       "      <td>8.5</td>\n",
       "      <td>E</td>\n",
       "    </tr>\n",
       "    <tr>\n",
       "      <th>7</th>\n",
       "      <td>Wii Play</td>\n",
       "      <td>Wii</td>\n",
       "      <td>2006.0</td>\n",
       "      <td>Misc</td>\n",
       "      <td>13.96</td>\n",
       "      <td>9.18</td>\n",
       "      <td>2.93</td>\n",
       "      <td>2.84</td>\n",
       "      <td>58.0</td>\n",
       "      <td>6.6</td>\n",
       "      <td>E</td>\n",
       "    </tr>\n",
       "    <tr>\n",
       "      <th>8</th>\n",
       "      <td>New Super Mario Bros. Wii</td>\n",
       "      <td>Wii</td>\n",
       "      <td>2009.0</td>\n",
       "      <td>Platform</td>\n",
       "      <td>14.44</td>\n",
       "      <td>6.94</td>\n",
       "      <td>4.70</td>\n",
       "      <td>2.24</td>\n",
       "      <td>87.0</td>\n",
       "      <td>8.4</td>\n",
       "      <td>E</td>\n",
       "    </tr>\n",
       "    <tr>\n",
       "      <th>9</th>\n",
       "      <td>Duck Hunt</td>\n",
       "      <td>NES</td>\n",
       "      <td>1984.0</td>\n",
       "      <td>Shooter</td>\n",
       "      <td>26.93</td>\n",
       "      <td>0.63</td>\n",
       "      <td>0.28</td>\n",
       "      <td>0.47</td>\n",
       "      <td>NaN</td>\n",
       "      <td>NaN</td>\n",
       "      <td>NaN</td>\n",
       "    </tr>\n",
       "  </tbody>\n",
       "</table>\n",
       "</div>"
      ],
      "text/plain": [
       "                        Name Platform  Year_of_Release         Genre  \\\n",
       "0                 Wii Sports      Wii           2006.0        Sports   \n",
       "1          Super Mario Bros.      NES           1985.0      Platform   \n",
       "2             Mario Kart Wii      Wii           2008.0        Racing   \n",
       "3          Wii Sports Resort      Wii           2009.0        Sports   \n",
       "4   Pokemon Red/Pokemon Blue       GB           1996.0  Role-Playing   \n",
       "5                     Tetris       GB           1989.0        Puzzle   \n",
       "6      New Super Mario Bros.       DS           2006.0      Platform   \n",
       "7                   Wii Play      Wii           2006.0          Misc   \n",
       "8  New Super Mario Bros. Wii      Wii           2009.0      Platform   \n",
       "9                  Duck Hunt      NES           1984.0       Shooter   \n",
       "\n",
       "   NA_sales  EU_sales  JP_sales  Other_sales  Critic_Score User_Score Rating  \n",
       "0     41.36     28.96      3.77         8.45          76.0          8      E  \n",
       "1     29.08      3.58      6.81         0.77           NaN        NaN    NaN  \n",
       "2     15.68     12.76      3.79         3.29          82.0        8.3      E  \n",
       "3     15.61     10.93      3.28         2.95          80.0          8      E  \n",
       "4     11.27      8.89     10.22         1.00           NaN        NaN    NaN  \n",
       "5     23.20      2.26      4.22         0.58           NaN        NaN    NaN  \n",
       "6     11.28      9.14      6.50         2.88          89.0        8.5      E  \n",
       "7     13.96      9.18      2.93         2.84          58.0        6.6      E  \n",
       "8     14.44      6.94      4.70         2.24          87.0        8.4      E  \n",
       "9     26.93      0.63      0.28         0.47           NaN        NaN    NaN  "
      ]
     },
     "execution_count": 3,
     "metadata": {},
     "output_type": "execute_result"
    }
   ],
   "source": [
    "games.head(10)"
   ]
  },
  {
   "cell_type": "code",
   "execution_count": 4,
   "metadata": {},
   "outputs": [
    {
     "name": "stdout",
     "output_type": "stream",
     "text": [
      "<class 'pandas.core.frame.DataFrame'>\n",
      "RangeIndex: 16715 entries, 0 to 16714\n",
      "Data columns (total 11 columns):\n",
      " #   Column           Non-Null Count  Dtype  \n",
      "---  ------           --------------  -----  \n",
      " 0   Name             16713 non-null  object \n",
      " 1   Platform         16715 non-null  object \n",
      " 2   Year_of_Release  16446 non-null  float64\n",
      " 3   Genre            16713 non-null  object \n",
      " 4   NA_sales         16715 non-null  float64\n",
      " 5   EU_sales         16715 non-null  float64\n",
      " 6   JP_sales         16715 non-null  float64\n",
      " 7   Other_sales      16715 non-null  float64\n",
      " 8   Critic_Score     8137 non-null   float64\n",
      " 9   User_Score       10014 non-null  object \n",
      " 10  Rating           9949 non-null   object \n",
      "dtypes: float64(6), object(5)\n",
      "memory usage: 1.4+ MB\n"
     ]
    }
   ],
   "source": [
    "games.info()"
   ]
  },
  {
   "cell_type": "markdown",
   "metadata": {},
   "source": [
    "**Сделаем проверку на количетсво дубликатов методом `duplicated()` и сделаем сводку числовых значений в нашем датасете методом `describe()`:** "
   ]
  },
  {
   "cell_type": "code",
   "execution_count": 5,
   "metadata": {
    "scrolled": true
   },
   "outputs": [
    {
     "name": "stdout",
     "output_type": "stream",
     "text": [
      "Количество дубликатов: 0\n"
     ]
    },
    {
     "data": {
      "text/html": [
       "<div>\n",
       "<style scoped>\n",
       "    .dataframe tbody tr th:only-of-type {\n",
       "        vertical-align: middle;\n",
       "    }\n",
       "\n",
       "    .dataframe tbody tr th {\n",
       "        vertical-align: top;\n",
       "    }\n",
       "\n",
       "    .dataframe thead th {\n",
       "        text-align: right;\n",
       "    }\n",
       "</style>\n",
       "<table border=\"1\" class=\"dataframe\">\n",
       "  <thead>\n",
       "    <tr style=\"text-align: right;\">\n",
       "      <th></th>\n",
       "      <th>Year_of_Release</th>\n",
       "      <th>NA_sales</th>\n",
       "      <th>EU_sales</th>\n",
       "      <th>JP_sales</th>\n",
       "      <th>Other_sales</th>\n",
       "      <th>Critic_Score</th>\n",
       "    </tr>\n",
       "  </thead>\n",
       "  <tbody>\n",
       "    <tr>\n",
       "      <th>count</th>\n",
       "      <td>16446.000000</td>\n",
       "      <td>16715.000000</td>\n",
       "      <td>16715.000000</td>\n",
       "      <td>16715.000000</td>\n",
       "      <td>16715.000000</td>\n",
       "      <td>8137.000000</td>\n",
       "    </tr>\n",
       "    <tr>\n",
       "      <th>mean</th>\n",
       "      <td>2006.484616</td>\n",
       "      <td>0.263377</td>\n",
       "      <td>0.145060</td>\n",
       "      <td>0.077617</td>\n",
       "      <td>0.047342</td>\n",
       "      <td>68.967679</td>\n",
       "    </tr>\n",
       "    <tr>\n",
       "      <th>std</th>\n",
       "      <td>5.877050</td>\n",
       "      <td>0.813604</td>\n",
       "      <td>0.503339</td>\n",
       "      <td>0.308853</td>\n",
       "      <td>0.186731</td>\n",
       "      <td>13.938165</td>\n",
       "    </tr>\n",
       "    <tr>\n",
       "      <th>min</th>\n",
       "      <td>1980.000000</td>\n",
       "      <td>0.000000</td>\n",
       "      <td>0.000000</td>\n",
       "      <td>0.000000</td>\n",
       "      <td>0.000000</td>\n",
       "      <td>13.000000</td>\n",
       "    </tr>\n",
       "    <tr>\n",
       "      <th>25%</th>\n",
       "      <td>2003.000000</td>\n",
       "      <td>0.000000</td>\n",
       "      <td>0.000000</td>\n",
       "      <td>0.000000</td>\n",
       "      <td>0.000000</td>\n",
       "      <td>60.000000</td>\n",
       "    </tr>\n",
       "    <tr>\n",
       "      <th>50%</th>\n",
       "      <td>2007.000000</td>\n",
       "      <td>0.080000</td>\n",
       "      <td>0.020000</td>\n",
       "      <td>0.000000</td>\n",
       "      <td>0.010000</td>\n",
       "      <td>71.000000</td>\n",
       "    </tr>\n",
       "    <tr>\n",
       "      <th>75%</th>\n",
       "      <td>2010.000000</td>\n",
       "      <td>0.240000</td>\n",
       "      <td>0.110000</td>\n",
       "      <td>0.040000</td>\n",
       "      <td>0.030000</td>\n",
       "      <td>79.000000</td>\n",
       "    </tr>\n",
       "    <tr>\n",
       "      <th>max</th>\n",
       "      <td>2016.000000</td>\n",
       "      <td>41.360000</td>\n",
       "      <td>28.960000</td>\n",
       "      <td>10.220000</td>\n",
       "      <td>10.570000</td>\n",
       "      <td>98.000000</td>\n",
       "    </tr>\n",
       "  </tbody>\n",
       "</table>\n",
       "</div>"
      ],
      "text/plain": [
       "       Year_of_Release      NA_sales      EU_sales      JP_sales  \\\n",
       "count     16446.000000  16715.000000  16715.000000  16715.000000   \n",
       "mean       2006.484616      0.263377      0.145060      0.077617   \n",
       "std           5.877050      0.813604      0.503339      0.308853   \n",
       "min        1980.000000      0.000000      0.000000      0.000000   \n",
       "25%        2003.000000      0.000000      0.000000      0.000000   \n",
       "50%        2007.000000      0.080000      0.020000      0.000000   \n",
       "75%        2010.000000      0.240000      0.110000      0.040000   \n",
       "max        2016.000000     41.360000     28.960000     10.220000   \n",
       "\n",
       "        Other_sales  Critic_Score  \n",
       "count  16715.000000   8137.000000  \n",
       "mean       0.047342     68.967679  \n",
       "std        0.186731     13.938165  \n",
       "min        0.000000     13.000000  \n",
       "25%        0.000000     60.000000  \n",
       "50%        0.010000     71.000000  \n",
       "75%        0.030000     79.000000  \n",
       "max       10.570000     98.000000  "
      ]
     },
     "execution_count": 5,
     "metadata": {},
     "output_type": "execute_result"
    }
   ],
   "source": [
    "print('Количество дубликатов:', games.duplicated().sum())\n",
    "games.describe()"
   ]
  },
  {
   "cell_type": "markdown",
   "metadata": {},
   "source": [
    "# Вывод:\n",
    "\n",
    "Основываясь на полученных первоначальных данных можно сказать, что их достаточно для проведения анализа. \n",
    "\n",
    "Одновременно с этим в датафрейме были обнаружены некоторые проблемы:\n",
    "\n",
    "- Присутствуют проущенные значения в столбцах;\n",
    "- Названия столбцов не приведены к нижнему регистру;\n",
    "- В столбцах `year_of_release` и `critic_score` можно изменить тип данных на `int` для оптимизации расхода памяти;\n",
    "\n",
    "На последних строках датафрейма можно заметить отсутствие оценок и рейтингов у игр, продажи которых на низкм уровне - это скорее всего связано с тем, что игры ещё не набрали популярность или не \"выстрелили\";\n",
    "\n",
    "Также можно предположить, что закономерность связи между пропусками в оценках и выставлением оценок американской компанией минимальная - так как рейтинговое агенство могло не выставлять оценки тем играм, которые выпускаются не для их рынка или уровень продаж ниже определённой планки;"
   ]
  },
  {
   "cell_type": "markdown",
   "metadata": {},
   "source": [
    "## Предобработка данных\n",
    "### Приведение к нижнему регистру"
   ]
  },
  {
   "cell_type": "code",
   "execution_count": 6,
   "metadata": {
    "scrolled": true
   },
   "outputs": [
    {
     "data": {
      "text/html": [
       "<div>\n",
       "<style scoped>\n",
       "    .dataframe tbody tr th:only-of-type {\n",
       "        vertical-align: middle;\n",
       "    }\n",
       "\n",
       "    .dataframe tbody tr th {\n",
       "        vertical-align: top;\n",
       "    }\n",
       "\n",
       "    .dataframe thead th {\n",
       "        text-align: right;\n",
       "    }\n",
       "</style>\n",
       "<table border=\"1\" class=\"dataframe\">\n",
       "  <thead>\n",
       "    <tr style=\"text-align: right;\">\n",
       "      <th></th>\n",
       "      <th>name</th>\n",
       "      <th>platform</th>\n",
       "      <th>year_of_release</th>\n",
       "      <th>genre</th>\n",
       "      <th>na_sales</th>\n",
       "      <th>eu_sales</th>\n",
       "      <th>jp_sales</th>\n",
       "      <th>other_sales</th>\n",
       "      <th>critic_score</th>\n",
       "      <th>user_score</th>\n",
       "      <th>rating</th>\n",
       "    </tr>\n",
       "  </thead>\n",
       "  <tbody>\n",
       "    <tr>\n",
       "      <th>0</th>\n",
       "      <td>Wii Sports</td>\n",
       "      <td>Wii</td>\n",
       "      <td>2006.0</td>\n",
       "      <td>Sports</td>\n",
       "      <td>41.36</td>\n",
       "      <td>28.96</td>\n",
       "      <td>3.77</td>\n",
       "      <td>8.45</td>\n",
       "      <td>76.0</td>\n",
       "      <td>8</td>\n",
       "      <td>E</td>\n",
       "    </tr>\n",
       "    <tr>\n",
       "      <th>1</th>\n",
       "      <td>Super Mario Bros.</td>\n",
       "      <td>NES</td>\n",
       "      <td>1985.0</td>\n",
       "      <td>Platform</td>\n",
       "      <td>29.08</td>\n",
       "      <td>3.58</td>\n",
       "      <td>6.81</td>\n",
       "      <td>0.77</td>\n",
       "      <td>NaN</td>\n",
       "      <td>NaN</td>\n",
       "      <td>NaN</td>\n",
       "    </tr>\n",
       "    <tr>\n",
       "      <th>2</th>\n",
       "      <td>Mario Kart Wii</td>\n",
       "      <td>Wii</td>\n",
       "      <td>2008.0</td>\n",
       "      <td>Racing</td>\n",
       "      <td>15.68</td>\n",
       "      <td>12.76</td>\n",
       "      <td>3.79</td>\n",
       "      <td>3.29</td>\n",
       "      <td>82.0</td>\n",
       "      <td>8.3</td>\n",
       "      <td>E</td>\n",
       "    </tr>\n",
       "    <tr>\n",
       "      <th>3</th>\n",
       "      <td>Wii Sports Resort</td>\n",
       "      <td>Wii</td>\n",
       "      <td>2009.0</td>\n",
       "      <td>Sports</td>\n",
       "      <td>15.61</td>\n",
       "      <td>10.93</td>\n",
       "      <td>3.28</td>\n",
       "      <td>2.95</td>\n",
       "      <td>80.0</td>\n",
       "      <td>8</td>\n",
       "      <td>E</td>\n",
       "    </tr>\n",
       "    <tr>\n",
       "      <th>4</th>\n",
       "      <td>Pokemon Red/Pokemon Blue</td>\n",
       "      <td>GB</td>\n",
       "      <td>1996.0</td>\n",
       "      <td>Role-Playing</td>\n",
       "      <td>11.27</td>\n",
       "      <td>8.89</td>\n",
       "      <td>10.22</td>\n",
       "      <td>1.00</td>\n",
       "      <td>NaN</td>\n",
       "      <td>NaN</td>\n",
       "      <td>NaN</td>\n",
       "    </tr>\n",
       "  </tbody>\n",
       "</table>\n",
       "</div>"
      ],
      "text/plain": [
       "                       name platform  year_of_release         genre  na_sales  \\\n",
       "0                Wii Sports      Wii           2006.0        Sports     41.36   \n",
       "1         Super Mario Bros.      NES           1985.0      Platform     29.08   \n",
       "2            Mario Kart Wii      Wii           2008.0        Racing     15.68   \n",
       "3         Wii Sports Resort      Wii           2009.0        Sports     15.61   \n",
       "4  Pokemon Red/Pokemon Blue       GB           1996.0  Role-Playing     11.27   \n",
       "\n",
       "   eu_sales  jp_sales  other_sales  critic_score user_score rating  \n",
       "0     28.96      3.77         8.45          76.0          8      E  \n",
       "1      3.58      6.81         0.77           NaN        NaN    NaN  \n",
       "2     12.76      3.79         3.29          82.0        8.3      E  \n",
       "3     10.93      3.28         2.95          80.0          8      E  \n",
       "4      8.89     10.22         1.00           NaN        NaN    NaN  "
      ]
     },
     "execution_count": 6,
     "metadata": {},
     "output_type": "execute_result"
    }
   ],
   "source": [
    "games.columns = games.columns.str.lower()\n",
    "games.head()"
   ]
  },
  {
   "cell_type": "markdown",
   "metadata": {},
   "source": [
    "### Преобразование типов данных\n",
    "**Проверим столбцы на аномалии**"
   ]
  },
  {
   "cell_type": "code",
   "execution_count": 7,
   "metadata": {},
   "outputs": [
    {
     "data": {
      "text/plain": [
       "array([2006., 1985., 2008., 2009., 1996., 1989., 1984., 2005., 1999.,\n",
       "       2007., 2010., 2013., 2004., 1990., 1988., 2002., 2001., 2011.,\n",
       "       1998., 2015., 2012., 2014., 1992., 1997., 1993., 1994., 1982.,\n",
       "       2016., 2003., 1986., 2000.,   nan, 1995., 1991., 1981., 1987.,\n",
       "       1980., 1983.])"
      ]
     },
     "execution_count": 7,
     "metadata": {},
     "output_type": "execute_result"
    }
   ],
   "source": [
    "games['year_of_release'].unique()"
   ]
  },
  {
   "cell_type": "code",
   "execution_count": 8,
   "metadata": {},
   "outputs": [
    {
     "data": {
      "text/plain": [
       "array([76., nan, 82., 80., 89., 58., 87., 91., 61., 97., 95., 77., 88.,\n",
       "       83., 94., 93., 85., 86., 98., 96., 90., 84., 73., 74., 78., 92.,\n",
       "       71., 72., 68., 62., 49., 67., 81., 66., 56., 79., 70., 59., 64.,\n",
       "       75., 60., 63., 69., 50., 25., 42., 44., 55., 48., 57., 29., 47.,\n",
       "       65., 54., 20., 53., 37., 38., 33., 52., 30., 32., 43., 45., 51.,\n",
       "       40., 46., 39., 34., 35., 41., 36., 28., 31., 27., 26., 19., 23.,\n",
       "       24., 21., 17., 22., 13.])"
      ]
     },
     "execution_count": 8,
     "metadata": {},
     "output_type": "execute_result"
    }
   ],
   "source": [
    "games['critic_score'].unique()"
   ]
  },
  {
   "cell_type": "code",
   "execution_count": 9,
   "metadata": {},
   "outputs": [
    {
     "data": {
      "text/plain": [
       "array(['8', nan, '8.3', '8.5', '6.6', '8.4', '8.6', '7.7', '6.3', '7.4',\n",
       "       '8.2', '9', '7.9', '8.1', '8.7', '7.1', '3.4', '5.3', '4.8', '3.2',\n",
       "       '8.9', '6.4', '7.8', '7.5', '2.6', '7.2', '9.2', '7', '7.3', '4.3',\n",
       "       '7.6', '5.7', '5', '9.1', '6.5', 'tbd', '8.8', '6.9', '9.4', '6.8',\n",
       "       '6.1', '6.7', '5.4', '4', '4.9', '4.5', '9.3', '6.2', '4.2', '6',\n",
       "       '3.7', '4.1', '5.8', '5.6', '5.5', '4.4', '4.6', '5.9', '3.9',\n",
       "       '3.1', '2.9', '5.2', '3.3', '4.7', '5.1', '3.5', '2.5', '1.9', '3',\n",
       "       '2.7', '2.2', '2', '9.5', '2.1', '3.6', '2.8', '1.8', '3.8', '0',\n",
       "       '1.6', '9.6', '2.4', '1.7', '1.1', '0.3', '1.5', '0.7', '1.2',\n",
       "       '2.3', '0.5', '1.3', '0.2', '0.6', '1.4', '0.9', '1', '9.7'],\n",
       "      dtype=object)"
      ]
     },
     "execution_count": 9,
     "metadata": {},
     "output_type": "execute_result"
    }
   ],
   "source": [
    "games['user_score'].unique()"
   ]
  },
  {
   "cell_type": "markdown",
   "metadata": {},
   "source": [
    "**Аномалий не выявлено, а  тип данных можно будет изменить после решения проблемы с пропусками**\n",
    "\n",
    "В столбце `user_score` числа записаны типом `object` - приведём их к `float`, так же в нём выявлено анмальное значение `tbd`"
   ]
  },
  {
   "cell_type": "code",
   "execution_count": 10,
   "metadata": {},
   "outputs": [
    {
     "data": {
      "text/plain": [
       "name               2424\n",
       "platform           2424\n",
       "year_of_release    2376\n",
       "genre              2424\n",
       "na_sales           2424\n",
       "eu_sales           2424\n",
       "jp_sales           2424\n",
       "other_sales        2424\n",
       "critic_score       1082\n",
       "user_score         2424\n",
       "rating             2374\n",
       "dtype: int64"
      ]
     },
     "metadata": {},
     "output_type": "display_data"
    }
   ],
   "source": [
    "display(games[games['user_score'] == 'tbd'].count())"
   ]
  },
  {
   "cell_type": "markdown",
   "metadata": {},
   "source": [
    "Удалить строки с аномалией `tbd` нельзя, так как они составляют около 15% датафрейма.\n",
    "Поиск в интернете подсказал, что это сокращение может означать, что рейтинг не определён (фактически приравнивается к NaN). Возможно, рейтинг пользователей по этим играм не собирался или не попал в наш датафрейм по ошибке. Приведём данные в столбце к вещественному типу."
   ]
  },
  {
   "cell_type": "code",
   "execution_count": 11,
   "metadata": {
    "scrolled": true
   },
   "outputs": [
    {
     "name": "stdout",
     "output_type": "stream",
     "text": [
      "<class 'pandas.core.frame.DataFrame'>\n",
      "RangeIndex: 16715 entries, 0 to 16714\n",
      "Data columns (total 11 columns):\n",
      " #   Column           Non-Null Count  Dtype  \n",
      "---  ------           --------------  -----  \n",
      " 0   name             16713 non-null  object \n",
      " 1   platform         16715 non-null  object \n",
      " 2   year_of_release  16446 non-null  float64\n",
      " 3   genre            16713 non-null  object \n",
      " 4   na_sales         16715 non-null  float64\n",
      " 5   eu_sales         16715 non-null  float64\n",
      " 6   jp_sales         16715 non-null  float64\n",
      " 7   other_sales      16715 non-null  float64\n",
      " 8   critic_score     8137 non-null   float64\n",
      " 9   user_score       7590 non-null   float64\n",
      " 10  rating           9949 non-null   object \n",
      "dtypes: float64(7), object(4)\n",
      "memory usage: 1.4+ MB\n"
     ]
    }
   ],
   "source": [
    "games['user_score'] = pd.to_numeric(games['user_score'], errors='coerce')\n",
    "games.info()"
   ]
  },
  {
   "cell_type": "markdown",
   "metadata": {},
   "source": [
    "### Обработка пропущенных значений\n",
    "**Проверка пропусков в столбцах**"
   ]
  },
  {
   "cell_type": "code",
   "execution_count": 12,
   "metadata": {},
   "outputs": [],
   "source": [
    "games = games.dropna(subset=['name']).reset_index(drop=True)"
   ]
  },
  {
   "cell_type": "code",
   "execution_count": 13,
   "metadata": {},
   "outputs": [],
   "source": [
    "games = games.dropna(subset=['year_of_release']).reset_index(drop=True)\n",
    "games['year_of_release'] = games['year_of_release'].astype('int')"
   ]
  },
  {
   "cell_type": "code",
   "execution_count": 14,
   "metadata": {
    "scrolled": true
   },
   "outputs": [
    {
     "name": "stdout",
     "output_type": "stream",
     "text": [
      "<class 'pandas.core.frame.DataFrame'>\n",
      "RangeIndex: 16444 entries, 0 to 16443\n",
      "Data columns (total 11 columns):\n",
      " #   Column           Non-Null Count  Dtype  \n",
      "---  ------           --------------  -----  \n",
      " 0   name             16444 non-null  object \n",
      " 1   platform         16444 non-null  object \n",
      " 2   year_of_release  16444 non-null  int64  \n",
      " 3   genre            16444 non-null  object \n",
      " 4   na_sales         16444 non-null  float64\n",
      " 5   eu_sales         16444 non-null  float64\n",
      " 6   jp_sales         16444 non-null  float64\n",
      " 7   other_sales      16444 non-null  float64\n",
      " 8   critic_score     7983 non-null   float64\n",
      " 9   user_score       7463 non-null   float64\n",
      " 10  rating           16444 non-null  object \n",
      "dtypes: float64(6), int64(1), object(4)\n",
      "memory usage: 1.4+ MB\n"
     ]
    }
   ],
   "source": [
    "games['rating'] = games['rating'].fillna('Unknown')\n",
    "games.info()"
   ]
  },
  {
   "cell_type": "markdown",
   "metadata": {},
   "source": [
    "*Столбец `name`:*\n",
    "- Пропущены названия игр 1993г , также у них не заполнены жанр и оценки и довольно низкие продажи - эти пропуски можно удалить; Причиной пропущенных названий могло быть то, что у игры не было постоянного имени или его решили не фиксировать ввиду невысокой популярности игры;\n",
    "\n",
    "*Столбец `year_of_release`:*\n",
    "- Причиной пропущенных значений могла стать ошибка при переносе данных из большой внешней базы; Пропуски занимают примерно 1.5% датафрейма,их замена случайными значениями может исказить картину в дальнейшем исследовании - поэтому их лучше всего удалить;\n",
    "- Заменили тип данных в столбце;\n",
    "\n",
    "*Столбцы `critic_score`, `user_score` и `rating`:*\n",
    "- Системы в пропусках не наблюдается, кроме того, что они часто отсутствуют в зависимости друг от друга; Пропущенные значения в этих данных могли появиться в следствие того, что эти игры не оценивались или данные не были занесены по ошибке; Заменять их чем-то случайным не станем, удалять также не будем, чтобы не жертвовать почти половиной датафрейма;\n",
    "\n",
    "*Столбец `rating`:*\n",
    "- Заменим пропуски в столбце с рейтингами значением `Unknown`;"
   ]
  },
  {
   "cell_type": "markdown",
   "metadata": {},
   "source": [
    "### Суммарные продажи во всех регионах\n",
    "**Посчитаем суммарные продажи и добавим для этого отдельный столбец `total_sales`**"
   ]
  },
  {
   "cell_type": "code",
   "execution_count": 15,
   "metadata": {
    "scrolled": true
   },
   "outputs": [
    {
     "data": {
      "text/html": [
       "<div>\n",
       "<style scoped>\n",
       "    .dataframe tbody tr th:only-of-type {\n",
       "        vertical-align: middle;\n",
       "    }\n",
       "\n",
       "    .dataframe tbody tr th {\n",
       "        vertical-align: top;\n",
       "    }\n",
       "\n",
       "    .dataframe thead th {\n",
       "        text-align: right;\n",
       "    }\n",
       "</style>\n",
       "<table border=\"1\" class=\"dataframe\">\n",
       "  <thead>\n",
       "    <tr style=\"text-align: right;\">\n",
       "      <th></th>\n",
       "      <th>name</th>\n",
       "      <th>platform</th>\n",
       "      <th>year_of_release</th>\n",
       "      <th>genre</th>\n",
       "      <th>na_sales</th>\n",
       "      <th>eu_sales</th>\n",
       "      <th>jp_sales</th>\n",
       "      <th>other_sales</th>\n",
       "      <th>critic_score</th>\n",
       "      <th>user_score</th>\n",
       "      <th>rating</th>\n",
       "      <th>total_sales</th>\n",
       "    </tr>\n",
       "  </thead>\n",
       "  <tbody>\n",
       "    <tr>\n",
       "      <th>0</th>\n",
       "      <td>Wii Sports</td>\n",
       "      <td>Wii</td>\n",
       "      <td>2006</td>\n",
       "      <td>Sports</td>\n",
       "      <td>41.36</td>\n",
       "      <td>28.96</td>\n",
       "      <td>3.77</td>\n",
       "      <td>8.45</td>\n",
       "      <td>76.0</td>\n",
       "      <td>8.0</td>\n",
       "      <td>E</td>\n",
       "      <td>82.54</td>\n",
       "    </tr>\n",
       "    <tr>\n",
       "      <th>1</th>\n",
       "      <td>Super Mario Bros.</td>\n",
       "      <td>NES</td>\n",
       "      <td>1985</td>\n",
       "      <td>Platform</td>\n",
       "      <td>29.08</td>\n",
       "      <td>3.58</td>\n",
       "      <td>6.81</td>\n",
       "      <td>0.77</td>\n",
       "      <td>NaN</td>\n",
       "      <td>NaN</td>\n",
       "      <td>Unknown</td>\n",
       "      <td>40.24</td>\n",
       "    </tr>\n",
       "    <tr>\n",
       "      <th>2</th>\n",
       "      <td>Mario Kart Wii</td>\n",
       "      <td>Wii</td>\n",
       "      <td>2008</td>\n",
       "      <td>Racing</td>\n",
       "      <td>15.68</td>\n",
       "      <td>12.76</td>\n",
       "      <td>3.79</td>\n",
       "      <td>3.29</td>\n",
       "      <td>82.0</td>\n",
       "      <td>8.3</td>\n",
       "      <td>E</td>\n",
       "      <td>35.52</td>\n",
       "    </tr>\n",
       "    <tr>\n",
       "      <th>3</th>\n",
       "      <td>Wii Sports Resort</td>\n",
       "      <td>Wii</td>\n",
       "      <td>2009</td>\n",
       "      <td>Sports</td>\n",
       "      <td>15.61</td>\n",
       "      <td>10.93</td>\n",
       "      <td>3.28</td>\n",
       "      <td>2.95</td>\n",
       "      <td>80.0</td>\n",
       "      <td>8.0</td>\n",
       "      <td>E</td>\n",
       "      <td>32.77</td>\n",
       "    </tr>\n",
       "    <tr>\n",
       "      <th>4</th>\n",
       "      <td>Pokemon Red/Pokemon Blue</td>\n",
       "      <td>GB</td>\n",
       "      <td>1996</td>\n",
       "      <td>Role-Playing</td>\n",
       "      <td>11.27</td>\n",
       "      <td>8.89</td>\n",
       "      <td>10.22</td>\n",
       "      <td>1.00</td>\n",
       "      <td>NaN</td>\n",
       "      <td>NaN</td>\n",
       "      <td>Unknown</td>\n",
       "      <td>31.38</td>\n",
       "    </tr>\n",
       "  </tbody>\n",
       "</table>\n",
       "</div>"
      ],
      "text/plain": [
       "                       name platform  year_of_release         genre  na_sales  \\\n",
       "0                Wii Sports      Wii             2006        Sports     41.36   \n",
       "1         Super Mario Bros.      NES             1985      Platform     29.08   \n",
       "2            Mario Kart Wii      Wii             2008        Racing     15.68   \n",
       "3         Wii Sports Resort      Wii             2009        Sports     15.61   \n",
       "4  Pokemon Red/Pokemon Blue       GB             1996  Role-Playing     11.27   \n",
       "\n",
       "   eu_sales  jp_sales  other_sales  critic_score  user_score   rating  \\\n",
       "0     28.96      3.77         8.45          76.0         8.0        E   \n",
       "1      3.58      6.81         0.77           NaN         NaN  Unknown   \n",
       "2     12.76      3.79         3.29          82.0         8.3        E   \n",
       "3     10.93      3.28         2.95          80.0         8.0        E   \n",
       "4      8.89     10.22         1.00           NaN         NaN  Unknown   \n",
       "\n",
       "   total_sales  \n",
       "0        82.54  \n",
       "1        40.24  \n",
       "2        35.52  \n",
       "3        32.77  \n",
       "4        31.38  "
      ]
     },
     "execution_count": 15,
     "metadata": {},
     "output_type": "execute_result"
    }
   ],
   "source": [
    "games['total_sales'] = games[['na_sales', 'eu_sales', 'jp_sales', 'other_sales']].sum(axis='columns')\n",
    "games.head()"
   ]
  },
  {
   "cell_type": "markdown",
   "metadata": {},
   "source": [
    "## Исслеовательский анализ данных\n",
    "### Распределение по годам"
   ]
  },
  {
   "cell_type": "code",
   "execution_count": 28,
   "metadata": {
    "scrolled": true
   },
   "outputs": [
    {
     "data": {
      "text/plain": [
       "count    16444.000000\n",
       "mean      2006.486256\n",
       "std          5.875525\n",
       "min       1980.000000\n",
       "25%       2003.000000\n",
       "50%       2007.000000\n",
       "75%       2010.000000\n",
       "max       2016.000000\n",
       "Name: year_of_release, dtype: float64"
      ]
     },
     "metadata": {},
     "output_type": "display_data"
    }
   ],
   "source": [
    "display(games['year_of_release'].describe())"
   ]
  },
  {
   "cell_type": "code",
   "execution_count": 32,
   "metadata": {},
   "outputs": [
    {
     "data": {
      "image/png": "[encoded data removed]",
      "text/plain": [
       "<Figure size 432x288 with 1 Axes>"
      ]
     },
     "metadata": {
      "needs_background": "light"
     },
     "output_type": "display_data"
    }
   ],
   "source": [
    "games['year_of_release'].hist(bins=10, color = 'orange', edgecolor = 'black');\n",
    "\n",
    "\n",
    "plt.title('Годовое распределение')\n",
    "plt.xlabel('Год')\n",
    "plt.ylabel('Продажи');"
   ]
  },
  {
   "cell_type": "markdown",
   "metadata": {},
   "source": [
    "**Вывод:**\n",
    "- По графику видно, что начиная с 2002 года можно увидеть рост тиража выпущенных игр;\n",
    "- В 2009 - 2012 годах виден всплеск по производству и выпуску игр;\n",
    "- Игры начали выпускаться с 1980 - значит данные до 1994 года не сильно важны;"
   ]
  },
  {
   "cell_type": "markdown",
   "metadata": {},
   "source": [
    "### Динамика продаж по платформам\n",
    "**Для начала нужно отсортировать платформы по объемам продаж**"
   ]
  },
  {
   "cell_type": "code",
   "execution_count": 16,
   "metadata": {},
   "outputs": [
    {
     "data": {
      "text/html": [
       "<div>\n",
       "<style scoped>\n",
       "    .dataframe tbody tr th:only-of-type {\n",
       "        vertical-align: middle;\n",
       "    }\n",
       "\n",
       "    .dataframe tbody tr th {\n",
       "        vertical-align: top;\n",
       "    }\n",
       "\n",
       "    .dataframe thead th {\n",
       "        text-align: right;\n",
       "    }\n",
       "</style>\n",
       "<table border=\"1\" class=\"dataframe\">\n",
       "  <thead>\n",
       "    <tr style=\"text-align: right;\">\n",
       "      <th></th>\n",
       "      <th>total_sales</th>\n",
       "    </tr>\n",
       "    <tr>\n",
       "      <th>platform</th>\n",
       "      <th></th>\n",
       "    </tr>\n",
       "  </thead>\n",
       "  <tbody>\n",
       "    <tr>\n",
       "      <th>PS2</th>\n",
       "      <td>1233.56</td>\n",
       "    </tr>\n",
       "    <tr>\n",
       "      <th>X360</th>\n",
       "      <td>961.24</td>\n",
       "    </tr>\n",
       "    <tr>\n",
       "      <th>PS3</th>\n",
       "      <td>931.34</td>\n",
       "    </tr>\n",
       "    <tr>\n",
       "      <th>Wii</th>\n",
       "      <td>891.18</td>\n",
       "    </tr>\n",
       "    <tr>\n",
       "      <th>DS</th>\n",
       "      <td>802.78</td>\n",
       "    </tr>\n",
       "    <tr>\n",
       "      <th>PS</th>\n",
       "      <td>727.58</td>\n",
       "    </tr>\n",
       "    <tr>\n",
       "      <th>PS4</th>\n",
       "      <td>314.14</td>\n",
       "    </tr>\n",
       "    <tr>\n",
       "      <th>GBA</th>\n",
       "      <td>312.88</td>\n",
       "    </tr>\n",
       "    <tr>\n",
       "      <th>PSP</th>\n",
       "      <td>289.53</td>\n",
       "    </tr>\n",
       "    <tr>\n",
       "      <th>3DS</th>\n",
       "      <td>257.81</td>\n",
       "    </tr>\n",
       "    <tr>\n",
       "      <th>PC</th>\n",
       "      <td>255.76</td>\n",
       "    </tr>\n",
       "    <tr>\n",
       "      <th>GB</th>\n",
       "      <td>254.43</td>\n",
       "    </tr>\n",
       "    <tr>\n",
       "      <th>XB</th>\n",
       "      <td>251.57</td>\n",
       "    </tr>\n",
       "    <tr>\n",
       "      <th>NES</th>\n",
       "      <td>251.05</td>\n",
       "    </tr>\n",
       "    <tr>\n",
       "      <th>N64</th>\n",
       "      <td>218.01</td>\n",
       "    </tr>\n",
       "    <tr>\n",
       "      <th>SNES</th>\n",
       "      <td>200.04</td>\n",
       "    </tr>\n",
       "    <tr>\n",
       "      <th>GC</th>\n",
       "      <td>196.73</td>\n",
       "    </tr>\n",
       "    <tr>\n",
       "      <th>XOne</th>\n",
       "      <td>159.32</td>\n",
       "    </tr>\n",
       "    <tr>\n",
       "      <th>2600</th>\n",
       "      <td>86.48</td>\n",
       "    </tr>\n",
       "    <tr>\n",
       "      <th>WiiU</th>\n",
       "      <td>82.19</td>\n",
       "    </tr>\n",
       "    <tr>\n",
       "      <th>PSV</th>\n",
       "      <td>53.81</td>\n",
       "    </tr>\n",
       "    <tr>\n",
       "      <th>SAT</th>\n",
       "      <td>33.59</td>\n",
       "    </tr>\n",
       "    <tr>\n",
       "      <th>GEN</th>\n",
       "      <td>28.35</td>\n",
       "    </tr>\n",
       "    <tr>\n",
       "      <th>DC</th>\n",
       "      <td>15.95</td>\n",
       "    </tr>\n",
       "    <tr>\n",
       "      <th>SCD</th>\n",
       "      <td>1.86</td>\n",
       "    </tr>\n",
       "    <tr>\n",
       "      <th>NG</th>\n",
       "      <td>1.44</td>\n",
       "    </tr>\n",
       "    <tr>\n",
       "      <th>WS</th>\n",
       "      <td>1.42</td>\n",
       "    </tr>\n",
       "    <tr>\n",
       "      <th>TG16</th>\n",
       "      <td>0.16</td>\n",
       "    </tr>\n",
       "    <tr>\n",
       "      <th>3DO</th>\n",
       "      <td>0.10</td>\n",
       "    </tr>\n",
       "    <tr>\n",
       "      <th>GG</th>\n",
       "      <td>0.04</td>\n",
       "    </tr>\n",
       "    <tr>\n",
       "      <th>PCFX</th>\n",
       "      <td>0.03</td>\n",
       "    </tr>\n",
       "  </tbody>\n",
       "</table>\n",
       "</div>"
      ],
      "text/plain": [
       "          total_sales\n",
       "platform             \n",
       "PS2           1233.56\n",
       "X360           961.24\n",
       "PS3            931.34\n",
       "Wii            891.18\n",
       "DS             802.78\n",
       "PS             727.58\n",
       "PS4            314.14\n",
       "GBA            312.88\n",
       "PSP            289.53\n",
       "3DS            257.81\n",
       "PC             255.76\n",
       "GB             254.43\n",
       "XB             251.57\n",
       "NES            251.05\n",
       "N64            218.01\n",
       "SNES           200.04\n",
       "GC             196.73\n",
       "XOne           159.32\n",
       "2600            86.48\n",
       "WiiU            82.19\n",
       "PSV             53.81\n",
       "SAT             33.59\n",
       "GEN             28.35\n",
       "DC              15.95\n",
       "SCD              1.86\n",
       "NG               1.44\n",
       "WS               1.42\n",
       "TG16             0.16\n",
       "3DO              0.10\n",
       "GG               0.04\n",
       "PCFX             0.03"
      ]
     },
     "execution_count": 16,
     "metadata": {},
     "output_type": "execute_result"
    }
   ],
   "source": [
    "games.pivot_table(index='platform', values='total_sales', aggfunc='sum').sort_values('total_sales', ascending=False)"
   ]
  },
  {
   "cell_type": "code",
   "execution_count": 42,
   "metadata": {},
   "outputs": [
    {
     "data": {
      "image/png": "[encoded data removed]",
      "text/plain": [
       "<Figure size 2160x1440 with 1 Axes>"
      ]
     },
     "metadata": {
      "needs_background": "light"
     },
     "output_type": "display_data"
    }
   ],
   "source": [
    "#Проверим изменения продаж на платформах с самыми большими объемами\n",
    "\n",
    "(\n",
    "    games\n",
    "    .pivot_table(index=['platform', 'year_of_release'], values='total_sales', aggfunc='sum')\n",
    "    .query('platform in [\"PS2\", \"X360\", \"Wii\", \"PS3\", \"DS\", \"PS\"]')\n",
    "    .plot(y='total_sales',\n",
    "         kind='bar',\n",
    "         figsize=(30,20),\n",
    "         grid=True,\n",
    "         color = 'purple',\n",
    "         edgecolor = 'black')\n",
    ");\n",
    "\n",
    "plt.title('Объемы продаж консолей')\n",
    "plt.xlabel('Консоль/Год')\n",
    "plt.ylabel('Объемы продаж');"
   ]
  },
  {
   "cell_type": "markdown",
   "metadata": {},
   "source": [
    "**Вывод:**\n",
    "- На графике заметно проссматривается периодичность актуальности продаж игровых платформ, которая составляет 8 - 10 лет;"
   ]
  },
  {
   "cell_type": "markdown",
   "metadata": {},
   "source": [
    "### Выбор и анализ актуального периода для прогноза\n",
    "*За актуалный период взяты данные 2014 - 2016 года.*"
   ]
  },
  {
   "cell_type": "code",
   "execution_count": 43,
   "metadata": {
    "scrolled": true
   },
   "outputs": [
    {
     "name": "stdout",
     "output_type": "stream",
     "text": [
      "<class 'pandas.core.frame.DataFrame'>\n",
      "RangeIndex: 1689 entries, 0 to 1688\n",
      "Data columns (total 12 columns):\n",
      " #   Column           Non-Null Count  Dtype  \n",
      "---  ------           --------------  -----  \n",
      " 0   name             1689 non-null   object \n",
      " 1   platform         1689 non-null   object \n",
      " 2   year_of_release  1689 non-null   int64  \n",
      " 3   genre            1689 non-null   object \n",
      " 4   na_sales         1689 non-null   float64\n",
      " 5   eu_sales         1689 non-null   float64\n",
      " 6   jp_sales         1689 non-null   float64\n",
      " 7   other_sales      1689 non-null   float64\n",
      " 8   critic_score     718 non-null    float64\n",
      " 9   user_score       888 non-null    float64\n",
      " 10  rating           1689 non-null   object \n",
      " 11  total_sales      1689 non-null   float64\n",
      "dtypes: float64(7), int64(1), object(4)\n",
      "memory usage: 158.5+ KB\n"
     ]
    }
   ],
   "source": [
    "actual_period = games[games['year_of_release'] >= 2014].reset_index(drop=True)\n",
    "actual_period.info()"
   ]
  },
  {
   "cell_type": "markdown",
   "metadata": {},
   "source": [
    "Как и во всём датафрейме в этом фрагменте есть много пропусков в оценках.\n",
    "\n",
    "В остальном, срез вполне пригоден для анализа и составления прогноза."
   ]
  },
  {
   "cell_type": "markdown",
   "metadata": {},
   "source": [
    "### Определение лидирующих платформ\n",
    "Проверим платформы за выбранный период."
   ]
  },
  {
   "cell_type": "code",
   "execution_count": 44,
   "metadata": {},
   "outputs": [
    {
     "data": {
      "text/plain": [
       "array(['PS4', '3DS', 'XOne', 'WiiU', 'PS3', 'X360', 'PC', 'Wii', 'PSV',\n",
       "       'PSP'], dtype=object)"
      ]
     },
     "execution_count": 44,
     "metadata": {},
     "output_type": "execute_result"
    }
   ],
   "source": [
    "actual_period['platform'].unique()"
   ]
  },
  {
   "cell_type": "markdown",
   "metadata": {},
   "source": [
    "**Создадим графики для наглядного рассмотрения тенденций в продажах каждой платформы**"
   ]
  },
  {
   "cell_type": "code",
   "execution_count": 46,
   "metadata": {},
   "outputs": [
    {
     "data": {
      "text/html": [
       "<div>\n",
       "<style scoped>\n",
       "    .dataframe tbody tr th:only-of-type {\n",
       "        vertical-align: middle;\n",
       "    }\n",
       "\n",
       "    .dataframe tbody tr th {\n",
       "        vertical-align: top;\n",
       "    }\n",
       "\n",
       "    .dataframe thead th {\n",
       "        text-align: right;\n",
       "    }\n",
       "</style>\n",
       "<table border=\"1\" class=\"dataframe\">\n",
       "  <thead>\n",
       "    <tr style=\"text-align: right;\">\n",
       "      <th></th>\n",
       "      <th>total_sales</th>\n",
       "    </tr>\n",
       "    <tr>\n",
       "      <th>platform</th>\n",
       "      <th></th>\n",
       "    </tr>\n",
       "  </thead>\n",
       "  <tbody>\n",
       "    <tr>\n",
       "      <th>PS2</th>\n",
       "      <td>1233.56</td>\n",
       "    </tr>\n",
       "    <tr>\n",
       "      <th>X360</th>\n",
       "      <td>961.24</td>\n",
       "    </tr>\n",
       "    <tr>\n",
       "      <th>PS3</th>\n",
       "      <td>931.34</td>\n",
       "    </tr>\n",
       "    <tr>\n",
       "      <th>Wii</th>\n",
       "      <td>891.18</td>\n",
       "    </tr>\n",
       "    <tr>\n",
       "      <th>DS</th>\n",
       "      <td>802.78</td>\n",
       "    </tr>\n",
       "    <tr>\n",
       "      <th>PS</th>\n",
       "      <td>727.58</td>\n",
       "    </tr>\n",
       "    <tr>\n",
       "      <th>PS4</th>\n",
       "      <td>314.14</td>\n",
       "    </tr>\n",
       "    <tr>\n",
       "      <th>GBA</th>\n",
       "      <td>312.88</td>\n",
       "    </tr>\n",
       "    <tr>\n",
       "      <th>PSP</th>\n",
       "      <td>289.53</td>\n",
       "    </tr>\n",
       "    <tr>\n",
       "      <th>3DS</th>\n",
       "      <td>257.81</td>\n",
       "    </tr>\n",
       "    <tr>\n",
       "      <th>PC</th>\n",
       "      <td>255.76</td>\n",
       "    </tr>\n",
       "    <tr>\n",
       "      <th>GB</th>\n",
       "      <td>254.43</td>\n",
       "    </tr>\n",
       "    <tr>\n",
       "      <th>XB</th>\n",
       "      <td>251.57</td>\n",
       "    </tr>\n",
       "    <tr>\n",
       "      <th>NES</th>\n",
       "      <td>251.05</td>\n",
       "    </tr>\n",
       "    <tr>\n",
       "      <th>N64</th>\n",
       "      <td>218.01</td>\n",
       "    </tr>\n",
       "    <tr>\n",
       "      <th>SNES</th>\n",
       "      <td>200.04</td>\n",
       "    </tr>\n",
       "    <tr>\n",
       "      <th>GC</th>\n",
       "      <td>196.73</td>\n",
       "    </tr>\n",
       "    <tr>\n",
       "      <th>XOne</th>\n",
       "      <td>159.32</td>\n",
       "    </tr>\n",
       "    <tr>\n",
       "      <th>2600</th>\n",
       "      <td>86.48</td>\n",
       "    </tr>\n",
       "    <tr>\n",
       "      <th>WiiU</th>\n",
       "      <td>82.19</td>\n",
       "    </tr>\n",
       "    <tr>\n",
       "      <th>PSV</th>\n",
       "      <td>53.81</td>\n",
       "    </tr>\n",
       "    <tr>\n",
       "      <th>SAT</th>\n",
       "      <td>33.59</td>\n",
       "    </tr>\n",
       "    <tr>\n",
       "      <th>GEN</th>\n",
       "      <td>28.35</td>\n",
       "    </tr>\n",
       "    <tr>\n",
       "      <th>DC</th>\n",
       "      <td>15.95</td>\n",
       "    </tr>\n",
       "    <tr>\n",
       "      <th>SCD</th>\n",
       "      <td>1.86</td>\n",
       "    </tr>\n",
       "    <tr>\n",
       "      <th>NG</th>\n",
       "      <td>1.44</td>\n",
       "    </tr>\n",
       "    <tr>\n",
       "      <th>WS</th>\n",
       "      <td>1.42</td>\n",
       "    </tr>\n",
       "    <tr>\n",
       "      <th>TG16</th>\n",
       "      <td>0.16</td>\n",
       "    </tr>\n",
       "    <tr>\n",
       "      <th>3DO</th>\n",
       "      <td>0.10</td>\n",
       "    </tr>\n",
       "    <tr>\n",
       "      <th>GG</th>\n",
       "      <td>0.04</td>\n",
       "    </tr>\n",
       "    <tr>\n",
       "      <th>PCFX</th>\n",
       "      <td>0.03</td>\n",
       "    </tr>\n",
       "  </tbody>\n",
       "</table>\n",
       "</div>"
      ],
      "text/plain": [
       "          total_sales\n",
       "platform             \n",
       "PS2           1233.56\n",
       "X360           961.24\n",
       "PS3            931.34\n",
       "Wii            891.18\n",
       "DS             802.78\n",
       "PS             727.58\n",
       "PS4            314.14\n",
       "GBA            312.88\n",
       "PSP            289.53\n",
       "3DS            257.81\n",
       "PC             255.76\n",
       "GB             254.43\n",
       "XB             251.57\n",
       "NES            251.05\n",
       "N64            218.01\n",
       "SNES           200.04\n",
       "GC             196.73\n",
       "XOne           159.32\n",
       "2600            86.48\n",
       "WiiU            82.19\n",
       "PSV             53.81\n",
       "SAT             33.59\n",
       "GEN             28.35\n",
       "DC              15.95\n",
       "SCD              1.86\n",
       "NG               1.44\n",
       "WS               1.42\n",
       "TG16             0.16\n",
       "3DO              0.10\n",
       "GG               0.04\n",
       "PCFX             0.03"
      ]
     },
     "execution_count": 46,
     "metadata": {},
     "output_type": "execute_result"
    }
   ],
   "source": [
    "#top_platforms = games['platform'].value_counts().head(10)\n",
    "platforms_ascending = games.pivot_table(index = 'platform', values = 'total_sales', aggfunc = 'sum').sort_values(by = 'total_sales', ascending = False)\n",
    "#top_platforms = platforms_ascending.head(10).reset_index()\n",
    "top_platforms = platforms_ascending.reset_index()\n",
    "iloc_top_platforms = top_platforms.iloc[0:10]\n",
    "#top_platforms_dict =top_platforms.unique()\n",
    "top_platforms = iloc_top_platforms['platform'].unique()\n",
    "platforms_ascending"
   ]
  },
  {
   "cell_type": "code",
   "execution_count": 51,
   "metadata": {},
   "outputs": [
    {
     "data": {
      "image/png": "[encoded data removed]",
      "text/plain": [
       "<Figure size 1080x360 with 1 Axes>"
      ]
     },
     "metadata": {
      "needs_background": "light"
     },
     "output_type": "display_data"
    }
   ],
   "source": [
    "iloc_top_platforms.plot(x=\"platform\", \n",
    "                        y=\"total_sales\", \n",
    "                        kind='bar', \n",
    "                        figsize=(15,5),\n",
    "                        color = 'orange',\n",
    "                        edgecolor = 'black',\n",
    "                        grid = True);\n",
    "plt.title('Объемы продаж консолей')\n",
    "plt.xlabel('Консоль')\n",
    "plt.ylabel('Объемы продаж');"
   ]
  },
  {
   "cell_type": "code",
   "execution_count": 55,
   "metadata": {},
   "outputs": [
    {
     "data": {
      "image/png": "[encoded data removed]",
      "text/plain": [
       "<Figure size 1080x360 with 1 Axes>"
      ]
     },
     "metadata": {
      "needs_background": "light"
     },
     "output_type": "display_data"
    }
   ],
   "source": [
    "actual_period.query('platform in @top_platforms').pivot_table(index='year_of_release', \n",
    "                                                              columns = 'platform', \n",
    "                                                              values='total_sales', \n",
    "                                                              aggfunc='sum').plot(figsize=(15, 5));\n",
    "plt.title('Объемы продаж популярных платформ')\n",
    "plt.xlabel('Год')\n",
    "plt.ylabel('Объемы продаж');"
   ]
  },
  {
   "cell_type": "markdown",
   "metadata": {},
   "source": [
    "**Вывод:**\n",
    "\n",
    "После изучения графиков и, принимая во внимание тот факт, что данные за 2016 год неполные (хотя, мы не знаем, насколько они неполные - возможно они представлены за 11 месяцев), можно рискнуть сделать выводы:\n",
    "\n",
    "- Все игры на платформах идут на снижение по продажам;\n",
    "- Среди них игры на PS4 продаются гораздо чаще, потому что консоль появилась не так давно и является потенциально прибыльной,  \n",
    "- Падает сильнее всего спрос на консоли: X360, PS3. На остальные консоли уже давно упал спрос, либо они вообще не продаются;\n",
    "- Бесперспективные платформы, у которых наблюдается тенденция к снижению продаж: `PSP, WiiU, PS3, X360, PC, Wii, PSV`;\n",
    "- Перспективные платформы (находятся в зоне роста или стагнации по продажам): `3DS, PS4, XOne`;\n",
    "\n",
    "*Итого потенциально прибыльные:*\n",
    "- PS4, XOne, 3DS\n",
    "\n",
    "*Потенциально не будут продаваться:*\n",
    "- X360, PS3"
   ]
  },
  {
   "cell_type": "markdown",
   "metadata": {},
   "source": [
    "### Построим диаграмму размаха по глобальным продажам игр в разбивке по платформам"
   ]
  },
  {
   "cell_type": "code",
   "execution_count": 56,
   "metadata": {
    "scrolled": true
   },
   "outputs": [
    {
     "data": {
      "image/png": "[encoded data removed]",
      "text/plain": [
       "<Figure size 1440x720 with 1 Axes>"
      ]
     },
     "metadata": {
      "needs_background": "light"
     },
     "output_type": "display_data"
    }
   ],
   "source": [
    "plt.figure(figsize=(20, 10))\n",
    "\n",
    "sns.boxplot(data=actual_period, x='platform', y='total_sales')\n",
    "\n",
    "plt.ylim(0, .85)\n",
    "\n",
    "plt.title('Глобальные продажи игр')\n",
    "plt.xlabel('Продажи, млн. шт.')\n",
    "plt.ylabel('Платформы')\n",
    "\n",
    "plt.show();"
   ]
  },
  {
   "cell_type": "code",
   "execution_count": 57,
   "metadata": {},
   "outputs": [
    {
     "data": {
      "text/html": [
       "<div>\n",
       "<style scoped>\n",
       "    .dataframe tbody tr th:only-of-type {\n",
       "        vertical-align: middle;\n",
       "    }\n",
       "\n",
       "    .dataframe tbody tr th {\n",
       "        vertical-align: top;\n",
       "    }\n",
       "\n",
       "    .dataframe thead th {\n",
       "        text-align: right;\n",
       "    }\n",
       "</style>\n",
       "<table border=\"1\" class=\"dataframe\">\n",
       "  <thead>\n",
       "    <tr style=\"text-align: right;\">\n",
       "      <th></th>\n",
       "      <th>count</th>\n",
       "      <th>mean</th>\n",
       "      <th>std</th>\n",
       "      <th>min</th>\n",
       "      <th>25%</th>\n",
       "      <th>50%</th>\n",
       "      <th>75%</th>\n",
       "      <th>max</th>\n",
       "    </tr>\n",
       "    <tr>\n",
       "      <th>platform</th>\n",
       "      <th></th>\n",
       "      <th></th>\n",
       "      <th></th>\n",
       "      <th></th>\n",
       "      <th></th>\n",
       "      <th></th>\n",
       "      <th></th>\n",
       "      <th></th>\n",
       "    </tr>\n",
       "  </thead>\n",
       "  <tbody>\n",
       "    <tr>\n",
       "      <th>3DS</th>\n",
       "      <td>212.0</td>\n",
       "      <td>0.408868</td>\n",
       "      <td>1.188368</td>\n",
       "      <td>0.01</td>\n",
       "      <td>0.0300</td>\n",
       "      <td>0.090</td>\n",
       "      <td>0.2500</td>\n",
       "      <td>11.68</td>\n",
       "    </tr>\n",
       "    <tr>\n",
       "      <th>PC</th>\n",
       "      <td>151.0</td>\n",
       "      <td>0.179139</td>\n",
       "      <td>0.329359</td>\n",
       "      <td>0.01</td>\n",
       "      <td>0.0200</td>\n",
       "      <td>0.060</td>\n",
       "      <td>0.2000</td>\n",
       "      <td>3.05</td>\n",
       "    </tr>\n",
       "    <tr>\n",
       "      <th>PS3</th>\n",
       "      <td>219.0</td>\n",
       "      <td>0.311324</td>\n",
       "      <td>0.633059</td>\n",
       "      <td>0.01</td>\n",
       "      <td>0.0400</td>\n",
       "      <td>0.110</td>\n",
       "      <td>0.3250</td>\n",
       "      <td>5.27</td>\n",
       "    </tr>\n",
       "    <tr>\n",
       "      <th>PS4</th>\n",
       "      <td>376.0</td>\n",
       "      <td>0.766356</td>\n",
       "      <td>1.614969</td>\n",
       "      <td>0.01</td>\n",
       "      <td>0.0575</td>\n",
       "      <td>0.185</td>\n",
       "      <td>0.6900</td>\n",
       "      <td>14.63</td>\n",
       "    </tr>\n",
       "    <tr>\n",
       "      <th>PSP</th>\n",
       "      <td>13.0</td>\n",
       "      <td>0.027692</td>\n",
       "      <td>0.027735</td>\n",
       "      <td>0.01</td>\n",
       "      <td>0.0100</td>\n",
       "      <td>0.020</td>\n",
       "      <td>0.0200</td>\n",
       "      <td>0.09</td>\n",
       "    </tr>\n",
       "    <tr>\n",
       "      <th>PSV</th>\n",
       "      <td>295.0</td>\n",
       "      <td>0.075932</td>\n",
       "      <td>0.141591</td>\n",
       "      <td>0.01</td>\n",
       "      <td>0.0200</td>\n",
       "      <td>0.040</td>\n",
       "      <td>0.0900</td>\n",
       "      <td>1.96</td>\n",
       "    </tr>\n",
       "    <tr>\n",
       "      <th>Wii</th>\n",
       "      <td>11.0</td>\n",
       "      <td>0.460909</td>\n",
       "      <td>0.625451</td>\n",
       "      <td>0.01</td>\n",
       "      <td>0.0350</td>\n",
       "      <td>0.180</td>\n",
       "      <td>0.7550</td>\n",
       "      <td>2.01</td>\n",
       "    </tr>\n",
       "    <tr>\n",
       "      <th>WiiU</th>\n",
       "      <td>73.0</td>\n",
       "      <td>0.588767</td>\n",
       "      <td>1.161467</td>\n",
       "      <td>0.01</td>\n",
       "      <td>0.0500</td>\n",
       "      <td>0.190</td>\n",
       "      <td>0.5700</td>\n",
       "      <td>7.09</td>\n",
       "    </tr>\n",
       "    <tr>\n",
       "      <th>X360</th>\n",
       "      <td>111.0</td>\n",
       "      <td>0.434414</td>\n",
       "      <td>0.628967</td>\n",
       "      <td>0.01</td>\n",
       "      <td>0.0700</td>\n",
       "      <td>0.180</td>\n",
       "      <td>0.5050</td>\n",
       "      <td>4.28</td>\n",
       "    </tr>\n",
       "    <tr>\n",
       "      <th>XOne</th>\n",
       "      <td>228.0</td>\n",
       "      <td>0.615614</td>\n",
       "      <td>1.046513</td>\n",
       "      <td>0.01</td>\n",
       "      <td>0.0500</td>\n",
       "      <td>0.205</td>\n",
       "      <td>0.6325</td>\n",
       "      <td>7.39</td>\n",
       "    </tr>\n",
       "  </tbody>\n",
       "</table>\n",
       "</div>"
      ],
      "text/plain": [
       "          count      mean       std   min     25%    50%     75%    max\n",
       "platform                                                               \n",
       "3DS       212.0  0.408868  1.188368  0.01  0.0300  0.090  0.2500  11.68\n",
       "PC        151.0  0.179139  0.329359  0.01  0.0200  0.060  0.2000   3.05\n",
       "PS3       219.0  0.311324  0.633059  0.01  0.0400  0.110  0.3250   5.27\n",
       "PS4       376.0  0.766356  1.614969  0.01  0.0575  0.185  0.6900  14.63\n",
       "PSP        13.0  0.027692  0.027735  0.01  0.0100  0.020  0.0200   0.09\n",
       "PSV       295.0  0.075932  0.141591  0.01  0.0200  0.040  0.0900   1.96\n",
       "Wii        11.0  0.460909  0.625451  0.01  0.0350  0.180  0.7550   2.01\n",
       "WiiU       73.0  0.588767  1.161467  0.01  0.0500  0.190  0.5700   7.09\n",
       "X360      111.0  0.434414  0.628967  0.01  0.0700  0.180  0.5050   4.28\n",
       "XOne      228.0  0.615614  1.046513  0.01  0.0500  0.205  0.6325   7.39"
      ]
     },
     "execution_count": 57,
     "metadata": {},
     "output_type": "execute_result"
    }
   ],
   "source": [
    "actual_period.groupby('platform')['total_sales'].describe()"
   ]
  },
  {
   "cell_type": "markdown",
   "metadata": {},
   "source": [
    "У всех платформ среднее значение продаж значительно больше медианного. \n",
    "\n",
    "Наибольшее стандартное отклонение наблюдается у платформ `PS4, 3DS, WiiU, XOne`."
   ]
  },
  {
   "cell_type": "markdown",
   "metadata": {},
   "source": [
    "### Влияние отзывов пользователей и критиков на продажи у XOne \n",
    "\n",
    "Рассматривается данная платформа, так как она набирает популярность у пользователей."
   ]
  },
  {
   "cell_type": "code",
   "execution_count": 58,
   "metadata": {},
   "outputs": [
    {
     "data": {
      "image/png": "[encoded data removed]",
      "text/plain": [
       "<Figure size 432x288 with 1 Axes>"
      ]
     },
     "metadata": {
      "needs_background": "light"
     },
     "output_type": "display_data"
    },
    {
     "data": {
      "image/png": "[encoded data removed]",
      "text/plain": [
       "<Figure size 432x288 with 1 Axes>"
      ]
     },
     "metadata": {
      "needs_background": "light"
     },
     "output_type": "display_data"
    }
   ],
   "source": [
    "actual_period[actual_period['platform'] == 'XOne'].plot(x='total_sales', y='user_score', kind='scatter')\n",
    "plt.title('Влияние отзывов пользователей на продажи');\n",
    "actual_period[actual_period['platform'] == 'XOne'].plot(x='total_sales', y='critic_score', kind='scatter')\n",
    "plt.title('Влияние отзывов критиков на продажи');"
   ]
  },
  {
   "cell_type": "markdown",
   "metadata": {},
   "source": [
    "**Вычислим коэффициенты корреляции Пирсона попарно между отзывами и продажами**"
   ]
  },
  {
   "cell_type": "code",
   "execution_count": 59,
   "metadata": {},
   "outputs": [
    {
     "data": {
      "text/plain": [
       "'Коэффициент корреляции Пирсона между продажами и оценкой пользователей: '"
      ]
     },
     "metadata": {},
     "output_type": "display_data"
    },
    {
     "data": {
      "text/plain": [
       "-0.0703839280647581"
      ]
     },
     "metadata": {},
     "output_type": "display_data"
    },
    {
     "data": {
      "text/plain": [
       "'Коэффициент корреляции Пирсона между продажами и оценкой критиков: '"
      ]
     },
     "metadata": {},
     "output_type": "display_data"
    },
    {
     "data": {
      "text/plain": [
       "0.42867694370333226"
      ]
     },
     "metadata": {},
     "output_type": "display_data"
    }
   ],
   "source": [
    "display('Коэффициент корреляции Пирсона между продажами и оценкой пользователей: ',\n",
    "    actual_period[actual_period['platform'] == 'XOne']['total_sales']\n",
    "        .corr(actual_period[actual_period['platform'] == 'XOne']['user_score'])\n",
    ")\n",
    "display(\"Коэффициент корреляции Пирсона между продажами и оценкой критиков: \",\n",
    "    actual_period[actual_period['platform'] == 'XOne']['total_sales']\n",
    "        .corr(actual_period[actual_period['platform'] == 'XOne']['critic_score'])\n",
    ")"
   ]
  },
  {
   "cell_type": "markdown",
   "metadata": {},
   "source": [
    "**Вывод:**\n",
    "\n",
    "- По диаграмме видно, что в целом оценки критиков с оценками пользователей совпадают;\n",
    "- Объём продаж и оценки пользователей практически не коррелируют, так как коэффициент отрицательный;\n",
    "- Между объёмом продаж и оценками критиков наблюдается слабая прямая корреляция;"
   ]
  },
  {
   "cell_type": "markdown",
   "metadata": {},
   "source": [
    "### Влияние отзывов критиков и пользователей на продажи игр на остальных платформах\n",
    "\n",
    "**Вычислим коэффициенты корреляции Пирсона попарно между отзывами и продажами**"
   ]
  },
  {
   "cell_type": "code",
   "execution_count": 61,
   "metadata": {},
   "outputs": [
    {
     "data": {
      "image/png": "[encoded data removed]",
      "text/plain": [
       "<Figure size 432x288 with 1 Axes>"
      ]
     },
     "metadata": {
      "needs_background": "light"
     },
     "output_type": "display_data"
    },
    {
     "data": {
      "image/png": "[encoded data removed]",
      "text/plain": [
       "<Figure size 432x288 with 1 Axes>"
      ]
     },
     "metadata": {
      "needs_background": "light"
     },
     "output_type": "display_data"
    }
   ],
   "source": [
    "actual_period[actual_period['platform'] != 'XOne'].plot(x='total_sales', y='user_score', kind='scatter')\n",
    "plt.title('Влияние отзывов пользователей на продажи');\n",
    "actual_period[actual_period['platform'] != 'XOne'].plot(x='total_sales', y='critic_score', kind='scatter')\n",
    "plt.title('Влияние отзывов критиков на продажи');"
   ]
  },
  {
   "cell_type": "code",
   "execution_count": 62,
   "metadata": {
    "scrolled": true
   },
   "outputs": [
    {
     "data": {
      "text/plain": [
       "'Коэффициент корреляции Пирсона между продажами и оценкой пользователей: '"
      ]
     },
     "metadata": {},
     "output_type": "display_data"
    },
    {
     "data": {
      "text/plain": [
       "-0.0025949515406363936"
      ]
     },
     "metadata": {},
     "output_type": "display_data"
    },
    {
     "data": {
      "text/plain": [
       "'Коэффициент корреляции Пирсона между продажами и оценкой критиков: '"
      ]
     },
     "metadata": {},
     "output_type": "display_data"
    },
    {
     "data": {
      "text/plain": [
       "0.302042487886709"
      ]
     },
     "metadata": {},
     "output_type": "display_data"
    }
   ],
   "source": [
    "display(\"Коэффициент корреляции Пирсона между продажами и оценкой пользователей: \",\n",
    "    actual_period[actual_period['platform'] != 'XOne']['total_sales']\n",
    "        .corr(actual_period[actual_period['platform'] != 'XOne']['user_score'])\n",
    ")\n",
    "display(\"Коэффициент корреляции Пирсона между продажами и оценкой критиков: \",\n",
    "    actual_period[actual_period['platform'] != 'XOne']['total_sales']\n",
    "        .corr(actual_period[actual_period['platform'] != 'XOne']['critic_score'])\n",
    ")"
   ]
  },
  {
   "cell_type": "markdown",
   "metadata": {},
   "source": [
    "**Вывод:**\n",
    "Для остальных платформ выводы по корреляции такие же: практически нет связи между продажами и оценкой пользователей, и совсем небольшая прямая связь между продажами и оценками критиков."
   ]
  },
  {
   "cell_type": "markdown",
   "metadata": {},
   "source": [
    "### Анализ распределения игр по жанрам "
   ]
  },
  {
   "cell_type": "code",
   "execution_count": 79,
   "metadata": {},
   "outputs": [
    {
     "data": {
      "image/png": "[encoded data removed]",
      "text/plain": [
       "<Figure size 576x576 with 1 Axes>"
      ]
     },
     "metadata": {},
     "output_type": "display_data"
    }
   ],
   "source": [
    "actual_period.pivot_table(index = 'genre', \n",
    "                          values = 'total_sales', \n",
    "                          aggfunc = 'sum').sort_values(ascending=False, \n",
    "                                                       by = 'total_sales').plot(kind='pie', \n",
    "                                                                                figsize=(8,8), \n",
    "                                                                                y= 'total_sales');\n",
    "plt.title('Популяность жанров')\n",
    "plt.ylabel('Жанры');"
   ]
  },
  {
   "cell_type": "markdown",
   "metadata": {},
   "source": [
    "**Вывод:**\n",
    "- Абсолютный лидер жанр по представленности в выборке - `Action`;\n",
    "- Далее: `Sports, Shooter, Sports, Role-Playing`;\n",
    "- Наименее прибыльные жанры - `Strategy, Puzzle`;"
   ]
  },
  {
   "cell_type": "code",
   "execution_count": 65,
   "metadata": {},
   "outputs": [
    {
     "data": {
      "text/html": [
       "<div>\n",
       "<style scoped>\n",
       "    .dataframe tbody tr th:only-of-type {\n",
       "        vertical-align: middle;\n",
       "    }\n",
       "\n",
       "    .dataframe tbody tr th {\n",
       "        vertical-align: top;\n",
       "    }\n",
       "\n",
       "    .dataframe thead th {\n",
       "        text-align: right;\n",
       "    }\n",
       "</style>\n",
       "<table border=\"1\" class=\"dataframe\">\n",
       "  <thead>\n",
       "    <tr style=\"text-align: right;\">\n",
       "      <th></th>\n",
       "      <th>total_sales</th>\n",
       "    </tr>\n",
       "    <tr>\n",
       "      <th>genre</th>\n",
       "      <th></th>\n",
       "    </tr>\n",
       "  </thead>\n",
       "  <tbody>\n",
       "    <tr>\n",
       "      <th>Action</th>\n",
       "      <td>199.36</td>\n",
       "    </tr>\n",
       "    <tr>\n",
       "      <th>Shooter</th>\n",
       "      <td>170.94</td>\n",
       "    </tr>\n",
       "    <tr>\n",
       "      <th>Sports</th>\n",
       "      <td>109.48</td>\n",
       "    </tr>\n",
       "    <tr>\n",
       "      <th>Role-Playing</th>\n",
       "      <td>101.44</td>\n",
       "    </tr>\n",
       "    <tr>\n",
       "      <th>Misc</th>\n",
       "      <td>37.55</td>\n",
       "    </tr>\n",
       "    <tr>\n",
       "      <th>Fighting</th>\n",
       "      <td>28.22</td>\n",
       "    </tr>\n",
       "    <tr>\n",
       "      <th>Racing</th>\n",
       "      <td>27.52</td>\n",
       "    </tr>\n",
       "    <tr>\n",
       "      <th>Platform</th>\n",
       "      <td>18.09</td>\n",
       "    </tr>\n",
       "    <tr>\n",
       "      <th>Adventure</th>\n",
       "      <td>17.55</td>\n",
       "    </tr>\n",
       "    <tr>\n",
       "      <th>Simulation</th>\n",
       "      <td>13.13</td>\n",
       "    </tr>\n",
       "    <tr>\n",
       "      <th>Strategy</th>\n",
       "      <td>3.96</td>\n",
       "    </tr>\n",
       "    <tr>\n",
       "      <th>Puzzle</th>\n",
       "      <td>2.21</td>\n",
       "    </tr>\n",
       "  </tbody>\n",
       "</table>\n",
       "</div>"
      ],
      "text/plain": [
       "              total_sales\n",
       "genre                    \n",
       "Action             199.36\n",
       "Shooter            170.94\n",
       "Sports             109.48\n",
       "Role-Playing       101.44\n",
       "Misc                37.55\n",
       "Fighting            28.22\n",
       "Racing              27.52\n",
       "Platform            18.09\n",
       "Adventure           17.55\n",
       "Simulation          13.13\n",
       "Strategy             3.96\n",
       "Puzzle               2.21"
      ]
     },
     "execution_count": 65,
     "metadata": {},
     "output_type": "execute_result"
    }
   ],
   "source": [
    "#Посмотрим объемы продаж жанров\n",
    "(\n",
    "    actual_period\n",
    "    .pivot_table(index='genre', values='total_sales', aggfunc='sum')\n",
    "    .sort_values('total_sales', ascending=False)\n",
    ")"
   ]
  },
  {
   "cell_type": "markdown",
   "metadata": {},
   "source": [
    "Числення таблица подтверждает достоверность полученного выше графика."
   ]
  },
  {
   "cell_type": "markdown",
   "metadata": {},
   "source": [
    "Посмотрим на числовое описание данных по продажам игр в различных жанрах"
   ]
  },
  {
   "cell_type": "code",
   "execution_count": 66,
   "metadata": {},
   "outputs": [
    {
     "data": {
      "text/html": [
       "<div>\n",
       "<style scoped>\n",
       "    .dataframe tbody tr th:only-of-type {\n",
       "        vertical-align: middle;\n",
       "    }\n",
       "\n",
       "    .dataframe tbody tr th {\n",
       "        vertical-align: top;\n",
       "    }\n",
       "\n",
       "    .dataframe thead th {\n",
       "        text-align: right;\n",
       "    }\n",
       "</style>\n",
       "<table border=\"1\" class=\"dataframe\">\n",
       "  <thead>\n",
       "    <tr style=\"text-align: right;\">\n",
       "      <th></th>\n",
       "      <th>count</th>\n",
       "      <th>mean</th>\n",
       "      <th>std</th>\n",
       "      <th>min</th>\n",
       "      <th>25%</th>\n",
       "      <th>50%</th>\n",
       "      <th>75%</th>\n",
       "      <th>max</th>\n",
       "    </tr>\n",
       "    <tr>\n",
       "      <th>genre</th>\n",
       "      <th></th>\n",
       "      <th></th>\n",
       "      <th></th>\n",
       "      <th></th>\n",
       "      <th></th>\n",
       "      <th></th>\n",
       "      <th></th>\n",
       "      <th></th>\n",
       "    </tr>\n",
       "  </thead>\n",
       "  <tbody>\n",
       "    <tr>\n",
       "      <th>Action</th>\n",
       "      <td>619.0</td>\n",
       "      <td>0.322068</td>\n",
       "      <td>0.798181</td>\n",
       "      <td>0.01</td>\n",
       "      <td>0.0300</td>\n",
       "      <td>0.090</td>\n",
       "      <td>0.2800</td>\n",
       "      <td>12.62</td>\n",
       "    </tr>\n",
       "    <tr>\n",
       "      <th>Adventure</th>\n",
       "      <td>185.0</td>\n",
       "      <td>0.094865</td>\n",
       "      <td>0.203147</td>\n",
       "      <td>0.01</td>\n",
       "      <td>0.0200</td>\n",
       "      <td>0.030</td>\n",
       "      <td>0.0800</td>\n",
       "      <td>1.66</td>\n",
       "    </tr>\n",
       "    <tr>\n",
       "      <th>Fighting</th>\n",
       "      <td>60.0</td>\n",
       "      <td>0.470333</td>\n",
       "      <td>1.188053</td>\n",
       "      <td>0.01</td>\n",
       "      <td>0.0600</td>\n",
       "      <td>0.125</td>\n",
       "      <td>0.3200</td>\n",
       "      <td>7.55</td>\n",
       "    </tr>\n",
       "    <tr>\n",
       "      <th>Misc</th>\n",
       "      <td>113.0</td>\n",
       "      <td>0.332301</td>\n",
       "      <td>0.736999</td>\n",
       "      <td>0.01</td>\n",
       "      <td>0.0300</td>\n",
       "      <td>0.090</td>\n",
       "      <td>0.3200</td>\n",
       "      <td>5.27</td>\n",
       "    </tr>\n",
       "    <tr>\n",
       "      <th>Platform</th>\n",
       "      <td>38.0</td>\n",
       "      <td>0.476053</td>\n",
       "      <td>0.722561</td>\n",
       "      <td>0.01</td>\n",
       "      <td>0.0625</td>\n",
       "      <td>0.140</td>\n",
       "      <td>0.4675</td>\n",
       "      <td>3.21</td>\n",
       "    </tr>\n",
       "    <tr>\n",
       "      <th>Puzzle</th>\n",
       "      <td>14.0</td>\n",
       "      <td>0.157857</td>\n",
       "      <td>0.320629</td>\n",
       "      <td>0.01</td>\n",
       "      <td>0.0200</td>\n",
       "      <td>0.045</td>\n",
       "      <td>0.1000</td>\n",
       "      <td>1.19</td>\n",
       "    </tr>\n",
       "    <tr>\n",
       "      <th>Racing</th>\n",
       "      <td>69.0</td>\n",
       "      <td>0.398841</td>\n",
       "      <td>0.963716</td>\n",
       "      <td>0.01</td>\n",
       "      <td>0.0300</td>\n",
       "      <td>0.090</td>\n",
       "      <td>0.2500</td>\n",
       "      <td>7.09</td>\n",
       "    </tr>\n",
       "    <tr>\n",
       "      <th>Role-Playing</th>\n",
       "      <td>221.0</td>\n",
       "      <td>0.459005</td>\n",
       "      <td>1.177284</td>\n",
       "      <td>0.01</td>\n",
       "      <td>0.0500</td>\n",
       "      <td>0.110</td>\n",
       "      <td>0.3600</td>\n",
       "      <td>11.68</td>\n",
       "    </tr>\n",
       "    <tr>\n",
       "      <th>Shooter</th>\n",
       "      <td>128.0</td>\n",
       "      <td>1.335469</td>\n",
       "      <td>2.050567</td>\n",
       "      <td>0.01</td>\n",
       "      <td>0.1725</td>\n",
       "      <td>0.515</td>\n",
       "      <td>1.6175</td>\n",
       "      <td>14.63</td>\n",
       "    </tr>\n",
       "    <tr>\n",
       "      <th>Simulation</th>\n",
       "      <td>44.0</td>\n",
       "      <td>0.298409</td>\n",
       "      <td>0.646925</td>\n",
       "      <td>0.01</td>\n",
       "      <td>0.0200</td>\n",
       "      <td>0.100</td>\n",
       "      <td>0.3275</td>\n",
       "      <td>3.05</td>\n",
       "    </tr>\n",
       "    <tr>\n",
       "      <th>Sports</th>\n",
       "      <td>161.0</td>\n",
       "      <td>0.680000</td>\n",
       "      <td>1.239736</td>\n",
       "      <td>0.01</td>\n",
       "      <td>0.0600</td>\n",
       "      <td>0.180</td>\n",
       "      <td>0.6400</td>\n",
       "      <td>8.58</td>\n",
       "    </tr>\n",
       "    <tr>\n",
       "      <th>Strategy</th>\n",
       "      <td>37.0</td>\n",
       "      <td>0.107027</td>\n",
       "      <td>0.118412</td>\n",
       "      <td>0.01</td>\n",
       "      <td>0.0300</td>\n",
       "      <td>0.060</td>\n",
       "      <td>0.1400</td>\n",
       "      <td>0.52</td>\n",
       "    </tr>\n",
       "  </tbody>\n",
       "</table>\n",
       "</div>"
      ],
      "text/plain": [
       "              count      mean       std   min     25%    50%     75%    max\n",
       "genre                                                                      \n",
       "Action        619.0  0.322068  0.798181  0.01  0.0300  0.090  0.2800  12.62\n",
       "Adventure     185.0  0.094865  0.203147  0.01  0.0200  0.030  0.0800   1.66\n",
       "Fighting       60.0  0.470333  1.188053  0.01  0.0600  0.125  0.3200   7.55\n",
       "Misc          113.0  0.332301  0.736999  0.01  0.0300  0.090  0.3200   5.27\n",
       "Platform       38.0  0.476053  0.722561  0.01  0.0625  0.140  0.4675   3.21\n",
       "Puzzle         14.0  0.157857  0.320629  0.01  0.0200  0.045  0.1000   1.19\n",
       "Racing         69.0  0.398841  0.963716  0.01  0.0300  0.090  0.2500   7.09\n",
       "Role-Playing  221.0  0.459005  1.177284  0.01  0.0500  0.110  0.3600  11.68\n",
       "Shooter       128.0  1.335469  2.050567  0.01  0.1725  0.515  1.6175  14.63\n",
       "Simulation     44.0  0.298409  0.646925  0.01  0.0200  0.100  0.3275   3.05\n",
       "Sports        161.0  0.680000  1.239736  0.01  0.0600  0.180  0.6400   8.58\n",
       "Strategy       37.0  0.107027  0.118412  0.01  0.0300  0.060  0.1400   0.52"
      ]
     },
     "execution_count": 66,
     "metadata": {},
     "output_type": "execute_result"
    }
   ],
   "source": [
    "actual_period.groupby('genre')['total_sales'].describe()"
   ]
  },
  {
   "cell_type": "markdown",
   "metadata": {},
   "source": [
    "- У наиболее прибыльных жанров наблюдаем значительную разницу между средними и медианными значениями и большое значение стандартных отклонений, что свидетельствует о неоднородности данных;\n",
    "- Для жанров, приносящих меньше прибыли характерно более низкое стандартное отклонение, но разница между медианой и средним всё же довольно высокая;\n",
    "- После рассмотрения медианных и средних значений можно сделать заключение: жанром-лидером со стабильными продажами с большим отрывом от конкурентов является `Shooter`;"
   ]
  },
  {
   "cell_type": "markdown",
   "metadata": {},
   "source": [
    "**Общий вывод:**\n",
    "- Большая часть выпущенных игр в представленной выборке приходится на период с 2002 до 2016 года;\n",
    "- Периодичность \"жизненного\" цикла игровых платформ составляет 8-10 лет;\n",
    "- Перспективные платформы (находятся в зоне роста или стагнации по продажам): `PS4, XOne, PSP`;\n",
    "- Вычисление коэффициентов корреляции Пирсона дало следующие результаты:\n",
    "    - связь между оценкой пользователей и продажами минимальна или незначительна;\n",
    "    - совсем небольшая прямая связь между продажами и оценками критиков;\n",
    "- Жанры-лидеры по представленности в выборке - `Action, Role-Playing, Sports, Shooter`;\n",
    "- Наиболее прибыльный жанр: `Shooter`;"
   ]
  },
  {
   "cell_type": "markdown",
   "metadata": {},
   "source": [
    "## Составление портрета пользователя каждого региона"
   ]
  },
  {
   "cell_type": "code",
   "execution_count": 67,
   "metadata": {},
   "outputs": [
    {
     "data": {
      "text/html": [
       "<div>\n",
       "<style scoped>\n",
       "    .dataframe tbody tr th:only-of-type {\n",
       "        vertical-align: middle;\n",
       "    }\n",
       "\n",
       "    .dataframe tbody tr th {\n",
       "        vertical-align: top;\n",
       "    }\n",
       "\n",
       "    .dataframe thead th {\n",
       "        text-align: right;\n",
       "    }\n",
       "</style>\n",
       "<table border=\"1\" class=\"dataframe\">\n",
       "  <thead>\n",
       "    <tr style=\"text-align: right;\">\n",
       "      <th></th>\n",
       "      <th>name</th>\n",
       "      <th>platform</th>\n",
       "      <th>year_of_release</th>\n",
       "      <th>genre</th>\n",
       "      <th>na_sales</th>\n",
       "      <th>eu_sales</th>\n",
       "      <th>jp_sales</th>\n",
       "      <th>other_sales</th>\n",
       "      <th>critic_score</th>\n",
       "      <th>user_score</th>\n",
       "      <th>rating</th>\n",
       "      <th>total_sales</th>\n",
       "    </tr>\n",
       "  </thead>\n",
       "  <tbody>\n",
       "    <tr>\n",
       "      <th>0</th>\n",
       "      <td>Call of Duty: Black Ops 3</td>\n",
       "      <td>PS4</td>\n",
       "      <td>2015</td>\n",
       "      <td>Shooter</td>\n",
       "      <td>6.03</td>\n",
       "      <td>5.86</td>\n",
       "      <td>0.36</td>\n",
       "      <td>2.38</td>\n",
       "      <td>NaN</td>\n",
       "      <td>NaN</td>\n",
       "      <td>Unknown</td>\n",
       "      <td>14.63</td>\n",
       "    </tr>\n",
       "    <tr>\n",
       "      <th>1</th>\n",
       "      <td>Grand Theft Auto V</td>\n",
       "      <td>PS4</td>\n",
       "      <td>2014</td>\n",
       "      <td>Action</td>\n",
       "      <td>3.96</td>\n",
       "      <td>6.31</td>\n",
       "      <td>0.38</td>\n",
       "      <td>1.97</td>\n",
       "      <td>97.0</td>\n",
       "      <td>8.3</td>\n",
       "      <td>M</td>\n",
       "      <td>12.62</td>\n",
       "    </tr>\n",
       "    <tr>\n",
       "      <th>2</th>\n",
       "      <td>Pokemon Omega Ruby/Pokemon Alpha Sapphire</td>\n",
       "      <td>3DS</td>\n",
       "      <td>2014</td>\n",
       "      <td>Role-Playing</td>\n",
       "      <td>4.35</td>\n",
       "      <td>3.49</td>\n",
       "      <td>3.10</td>\n",
       "      <td>0.74</td>\n",
       "      <td>NaN</td>\n",
       "      <td>NaN</td>\n",
       "      <td>Unknown</td>\n",
       "      <td>11.68</td>\n",
       "    </tr>\n",
       "    <tr>\n",
       "      <th>3</th>\n",
       "      <td>FIFA 16</td>\n",
       "      <td>PS4</td>\n",
       "      <td>2015</td>\n",
       "      <td>Sports</td>\n",
       "      <td>1.12</td>\n",
       "      <td>6.12</td>\n",
       "      <td>0.06</td>\n",
       "      <td>1.28</td>\n",
       "      <td>82.0</td>\n",
       "      <td>4.3</td>\n",
       "      <td>E</td>\n",
       "      <td>8.58</td>\n",
       "    </tr>\n",
       "    <tr>\n",
       "      <th>4</th>\n",
       "      <td>Star Wars Battlefront (2015)</td>\n",
       "      <td>PS4</td>\n",
       "      <td>2015</td>\n",
       "      <td>Shooter</td>\n",
       "      <td>2.99</td>\n",
       "      <td>3.49</td>\n",
       "      <td>0.22</td>\n",
       "      <td>1.28</td>\n",
       "      <td>NaN</td>\n",
       "      <td>NaN</td>\n",
       "      <td>Unknown</td>\n",
       "      <td>7.98</td>\n",
       "    </tr>\n",
       "  </tbody>\n",
       "</table>\n",
       "</div>"
      ],
      "text/plain": [
       "                                        name platform  year_of_release  \\\n",
       "0                  Call of Duty: Black Ops 3      PS4             2015   \n",
       "1                         Grand Theft Auto V      PS4             2014   \n",
       "2  Pokemon Omega Ruby/Pokemon Alpha Sapphire      3DS             2014   \n",
       "3                                    FIFA 16      PS4             2015   \n",
       "4               Star Wars Battlefront (2015)      PS4             2015   \n",
       "\n",
       "          genre  na_sales  eu_sales  jp_sales  other_sales  critic_score  \\\n",
       "0       Shooter      6.03      5.86      0.36         2.38           NaN   \n",
       "1        Action      3.96      6.31      0.38         1.97          97.0   \n",
       "2  Role-Playing      4.35      3.49      3.10         0.74           NaN   \n",
       "3        Sports      1.12      6.12      0.06         1.28          82.0   \n",
       "4       Shooter      2.99      3.49      0.22         1.28           NaN   \n",
       "\n",
       "   user_score   rating  total_sales  \n",
       "0         NaN  Unknown        14.63  \n",
       "1         8.3        M        12.62  \n",
       "2         NaN  Unknown        11.68  \n",
       "3         4.3        E         8.58  \n",
       "4         NaN  Unknown         7.98  "
      ]
     },
     "execution_count": 67,
     "metadata": {},
     "output_type": "execute_result"
    }
   ],
   "source": [
    "actual_period.head()"
   ]
  },
  {
   "cell_type": "markdown",
   "metadata": {},
   "source": [
    "### Определение топ-5 по популярности платформ для каждого региона"
   ]
  },
  {
   "cell_type": "code",
   "execution_count": 87,
   "metadata": {},
   "outputs": [
    {
     "data": {
      "image/png": "[encoded data removed]",
      "text/plain": [
       "<Figure size 504x504 with 1 Axes>"
      ]
     },
     "metadata": {},
     "output_type": "display_data"
    }
   ],
   "source": [
    "actual_period.pivot_table(index = 'platform', \n",
    "                          values = 'na_sales', \n",
    "                          aggfunc = 'sum').sort_values(ascending=False, \n",
    "                                                       by = 'na_sales').plot(kind = 'pie', \n",
    "                                                                             figsize=(7,7),\n",
    "                                                                            y = 'na_sales');\n",
    "\n",
    "plt.title('Популяность платформ в Северной Америке')\n",
    "plt.ylabel('Платформы');"
   ]
  },
  {
   "cell_type": "code",
   "execution_count": 88,
   "metadata": {},
   "outputs": [
    {
     "data": {
      "image/png": "[encoded data removed]",
      "text/plain": [
       "<Figure size 504x504 with 1 Axes>"
      ]
     },
     "metadata": {},
     "output_type": "display_data"
    }
   ],
   "source": [
    "actual_period.pivot_table(index = 'platform', \n",
    "                          values = 'eu_sales', \n",
    "                          aggfunc = 'sum').sort_values(ascending=False, \n",
    "                                                       by = 'eu_sales').plot(kind = 'pie', \n",
    "                                                                             figsize=(7,7),\n",
    "                                                                            y = 'eu_sales');\n",
    "\n",
    "plt.title('Популяность платформ в Европе')\n",
    "plt.ylabel('Платформы');"
   ]
  },
  {
   "cell_type": "code",
   "execution_count": 89,
   "metadata": {},
   "outputs": [
    {
     "data": {
      "image/png": "[encoded data removed]",
      "text/plain": [
       "<Figure size 504x504 with 1 Axes>"
      ]
     },
     "metadata": {},
     "output_type": "display_data"
    }
   ],
   "source": [
    "actual_period.pivot_table(index = 'platform', \n",
    "                          values = 'jp_sales', \n",
    "                          aggfunc = 'sum').sort_values(ascending=False, \n",
    "                                                       by = 'jp_sales').plot(kind = 'pie', \n",
    "                                                                             figsize=(7,7),\n",
    "                                                                            y = 'jp_sales');\n",
    "\n",
    "plt.title('Популяность платформ в Японии')\n",
    "plt.ylabel('Платформы');"
   ]
  },
  {
   "cell_type": "markdown",
   "metadata": {},
   "source": [
    "- В Северной Америке и Европе выбор игровых платформ схож, в Японии - игроки в целом отдают предпочтения другим приставкам;\n",
    "- Американские пользователи одинаково примерно в раной степени покупают игры двух лидирующих платформ: `PS4` и `XOne`;\n",
    "- В Европе явное предпочтение отдаётся `PS4`;\n",
    "- В Японии пользователи больше интересуются `Nintendo 3DS`;\n",
    "\n",
    "*Можно сделать общий вывод, что пользователи предпочитают играть на платформах своей же страны*"
   ]
  },
  {
   "cell_type": "markdown",
   "metadata": {},
   "source": [
    "### Определение топ-5 по популярности жанров для каждого региона"
   ]
  },
  {
   "cell_type": "code",
   "execution_count": 90,
   "metadata": {},
   "outputs": [
    {
     "data": {
      "image/png": "[encoded data removed]",
      "text/plain": [
       "<Figure size 504x504 with 1 Axes>"
      ]
     },
     "metadata": {},
     "output_type": "display_data"
    }
   ],
   "source": [
    "actual_period.pivot_table(index = 'genre', \n",
    "                          values = 'na_sales', \n",
    "                          aggfunc = 'sum').sort_values(ascending=False, \n",
    "                                                       by = 'na_sales').plot(kind = 'pie', \n",
    "                                                                             figsize=(7,7),\n",
    "                                                                            y = 'na_sales');\n",
    "\n",
    "plt.title('Популяность жанров в Северной Америке')\n",
    "plt.ylabel('Жанры');"
   ]
  },
  {
   "cell_type": "code",
   "execution_count": 91,
   "metadata": {},
   "outputs": [
    {
     "data": {
      "image/png": "[encoded data removed]",
      "text/plain": [
       "<Figure size 504x504 with 1 Axes>"
      ]
     },
     "metadata": {},
     "output_type": "display_data"
    }
   ],
   "source": [
    "actual_period.pivot_table(index = 'genre', \n",
    "                          values = 'eu_sales', \n",
    "                          aggfunc = 'sum').sort_values(ascending=False, \n",
    "                                                       by = 'eu_sales').plot(kind = 'pie', \n",
    "                                                                             figsize=(7,7),\n",
    "                                                                            y = 'eu_sales');\n",
    "\n",
    "plt.title('Популяность жанров в Европе')\n",
    "plt.ylabel('Жанры');"
   ]
  },
  {
   "cell_type": "code",
   "execution_count": 92,
   "metadata": {},
   "outputs": [
    {
     "data": {
      "image/png": "[encoded data removed]",
      "text/plain": [
       "<Figure size 504x504 with 1 Axes>"
      ]
     },
     "metadata": {},
     "output_type": "display_data"
    }
   ],
   "source": [
    "actual_period.pivot_table(index = 'genre', \n",
    "                          values = 'jp_sales', \n",
    "                          aggfunc = 'sum').sort_values(ascending=False, \n",
    "                                                       by = 'jp_sales').plot(kind = 'pie', \n",
    "                                                                             figsize=(7,7),\n",
    "                                                                            y = 'jp_sales');\n",
    "\n",
    "plt.title('Популяность жанров в Японии')\n",
    "plt.ylabel('Жанры');"
   ]
  },
  {
   "cell_type": "markdown",
   "metadata": {},
   "source": [
    "- Пользователи Европы и Северной Америки играют почти в одни и те же консоли и поэтому популярны жанры схожи - `Action, Sports, Shooter`;\n",
    "- В Японии преобладают пользователи с портативными консолями, в которые можно играть не только дома, поэтому они предпочитают жанр - `Role-Playing` и редко играют в игры с жанром - `Shooter`;"
   ]
  },
  {
   "cell_type": "markdown",
   "metadata": {},
   "source": [
    "### Влияние рейтинга ESRB на продажи в отдельном регионе"
   ]
  },
  {
   "cell_type": "code",
   "execution_count": 95,
   "metadata": {},
   "outputs": [],
   "source": [
    "actual_period['region'] = actual_period['na_sales'] + actual_period['eu_sales'] + actual_period['jp_sales'] \n",
    "# Соберём все регионы вместе"
   ]
  },
  {
   "cell_type": "code",
   "execution_count": 98,
   "metadata": {},
   "outputs": [
    {
     "data": {
      "text/html": [
       "<div>\n",
       "<style scoped>\n",
       "    .dataframe tbody tr th:only-of-type {\n",
       "        vertical-align: middle;\n",
       "    }\n",
       "\n",
       "    .dataframe tbody tr th {\n",
       "        vertical-align: top;\n",
       "    }\n",
       "\n",
       "    .dataframe thead th {\n",
       "        text-align: right;\n",
       "    }\n",
       "</style>\n",
       "<table border=\"1\" class=\"dataframe\">\n",
       "  <thead>\n",
       "    <tr style=\"text-align: right;\">\n",
       "      <th></th>\n",
       "      <th>eu_sales</th>\n",
       "      <th>jp_sales</th>\n",
       "      <th>na_sales</th>\n",
       "    </tr>\n",
       "    <tr>\n",
       "      <th>rating</th>\n",
       "      <th></th>\n",
       "      <th></th>\n",
       "      <th></th>\n",
       "    </tr>\n",
       "  </thead>\n",
       "  <tbody>\n",
       "    <tr>\n",
       "      <th>E</th>\n",
       "      <td>58.06</td>\n",
       "      <td>8.94</td>\n",
       "      <td>50.74</td>\n",
       "    </tr>\n",
       "    <tr>\n",
       "      <th>E10+</th>\n",
       "      <td>26.16</td>\n",
       "      <td>4.46</td>\n",
       "      <td>33.23</td>\n",
       "    </tr>\n",
       "    <tr>\n",
       "      <th>M</th>\n",
       "      <td>93.44</td>\n",
       "      <td>8.01</td>\n",
       "      <td>96.42</td>\n",
       "    </tr>\n",
       "    <tr>\n",
       "      <th>T</th>\n",
       "      <td>34.07</td>\n",
       "      <td>14.78</td>\n",
       "      <td>38.95</td>\n",
       "    </tr>\n",
       "    <tr>\n",
       "      <th>Unknown</th>\n",
       "      <td>58.95</td>\n",
       "      <td>56.90</td>\n",
       "      <td>64.72</td>\n",
       "    </tr>\n",
       "  </tbody>\n",
       "</table>\n",
       "</div>"
      ],
      "text/plain": [
       "         eu_sales  jp_sales  na_sales\n",
       "rating                               \n",
       "E           58.06      8.94     50.74\n",
       "E10+        26.16      4.46     33.23\n",
       "M           93.44      8.01     96.42\n",
       "T           34.07     14.78     38.95\n",
       "Unknown     58.95     56.90     64.72"
      ]
     },
     "execution_count": 98,
     "metadata": {},
     "output_type": "execute_result"
    }
   ],
   "source": [
    "ESRB = actual_period.pivot_table(index = 'rating', values = ['na_sales','eu_sales','jp_sales'], aggfunc = 'sum')\n",
    "ESRB"
   ]
  },
  {
   "cell_type": "markdown",
   "metadata": {},
   "source": [
    "В целом, можно заметить, что рейтинг влияет на продажи в отдельных регионах:\n",
    "\n",
    "- В Северной Америке и Европе у наиболее популярных платформ стоит рейтинг M;\n",
    "- В Японии у самых популярных платформ отсутствует рейтинг. Вероятно, это имеет отношение к тому, что присваиванием этих рейтингов занимается американская компания;\n",
    "- При этом у E10+ заметно преобладание популярности в Северной Америке;\n",
    "- Также можно заметить, что в основном у Японии четкие несовпадения в интересах с Европой и Северной Америкой;"
   ]
  },
  {
   "cell_type": "markdown",
   "metadata": {},
   "source": [
    "**Общий вывод:**\n",
    "\n",
    "- В Северной Америке и Европе выбор игровых платформ схож, в Японии - игроки в целом отдают предпочтения другим приставкам;\n",
    "\n",
    "- Американские пользователи одинаково примерно в раной степени покупают игры двух лидирующих платформ: `PS4` и `XOne`;\n",
    "\n",
    "- В Европе явное предпочтение отдаётся `PS4`;\n",
    "\n",
    "- В Японии пользователи больше интересуются `Nintendo 3DS`;\n",
    "\n",
    "- Пользователи Европы и Северной Америки играют в целом в одни и те же консоли и поэтому популярны жанры - `Action, Sports, Shooter`;\n",
    "\n",
    "- В Японии преобладают пользователи с портативными консолями, в которые можно играть не только дома, поэтому они предпочитают жанр - `Role-Playing`;\n",
    "\n",
    "- Жанры-лидеры по представленности в выборке - `Action, Role-Playing, Sports, Shooter`;\n",
    "\n",
    "- Наиболее прибыльный жанр: `Shooter`;\n",
    "\n",
    "- В Северной Америке и Европе у наиболее популярных платформ стоит рейтинг M, но явной связи между рейтингом и популярностью не прослеживается;\n",
    "\n",
    "- В Японии у самых популярных платформ отсутствует рейтинг. Вероятно, это имеет отношение к тому, что присваиванием этих рейтингов занимается американская компания;"
   ]
  },
  {
   "cell_type": "markdown",
   "metadata": {},
   "source": [
    "## Проверка гипотез"
   ]
  },
  {
   "cell_type": "markdown",
   "metadata": {},
   "source": [
    "### Средние пользовательские рейтинги платформ Xbox One и PC одинаковые"
   ]
  },
  {
   "cell_type": "markdown",
   "metadata": {},
   "source": [
    "*Нулевая гипотеза*: средние пользовательские рейтинги платформы `Xbox One` равны средним пользовательским рейтингам платформы `PC`. \n",
    "\n",
    "*Альтернативная гипотеза*: средние пользовательские рейтинги платформ `Xbox One` и `PC` различаются.\n",
    "\n",
    "Для проверки нулевой гипотезы используем `ttest`"
   ]
  },
  {
   "cell_type": "code",
   "execution_count": 42,
   "metadata": {},
   "outputs": [
    {
     "name": "stdout",
     "output_type": "stream",
     "text": [
      "p-значение: 0.10450507919348415\n",
      "Не получилось отвергнуть нулевую гипотезу\n"
     ]
    }
   ],
   "source": [
    "alpha = .01\n",
    "\n",
    "results = st.ttest_ind(\n",
    "    actual_period[actual_period['platform'] == 'PC']['user_score'].dropna(), \n",
    "    actual_period[actual_period['platform'] == 'XOne']['user_score'].dropna()\n",
    ")\n",
    "\n",
    "print('p-значение:', results.pvalue)\n",
    "\n",
    "if results.pvalue < alpha:\n",
    "    print(\"Отвергаем нулевую гипотезу\")\n",
    "else:\n",
    "    print(\"Не получилось отвергнуть нулевую гипотезу\")"
   ]
  },
  {
   "cell_type": "markdown",
   "metadata": {},
   "source": [
    "**Проведённый статистический тест не позволяет нам отвергнуть нулевую гипотезу. Но и утверждать, что средние пользовательские рейтинги платформ `Xbox One` и `PC` различаются на его основании мы не можем.**"
   ]
  },
  {
   "cell_type": "markdown",
   "metadata": {},
   "source": [
    "### Средние пользовательские рейтинги жанров Action и Sports разные"
   ]
  },
  {
   "cell_type": "markdown",
   "metadata": {},
   "source": [
    "*Нулевая гипотеза*: средние пользовательские рейтинги жанров `Action` и `Sports` равны.\n",
    "\n",
    "*Альтернативная гипотеза*: средние пользовательские рейтинги жанров `Action` и `Sports` разные."
   ]
  },
  {
   "cell_type": "code",
   "execution_count": 43,
   "metadata": {},
   "outputs": [
    {
     "name": "stdout",
     "output_type": "stream",
     "text": [
      "p-значение: 2.8711147985105864e-19\n",
      "Отвергаем нулевую гипотезу\n"
     ]
    }
   ],
   "source": [
    "alpha = .01\n",
    "\n",
    "results = st.ttest_ind(\n",
    "    actual_period[actual_period['genre'] == 'Action']['user_score'].dropna(), \n",
    "    actual_period[actual_period['genre'] == 'Sports']['user_score'].dropna()\n",
    ")\n",
    "\n",
    "print('p-значение:', results.pvalue)\n",
    "\n",
    "if results.pvalue < alpha:\n",
    "    print(\"Отвергаем нулевую гипотезу\")\n",
    "else:\n",
    "    print(\"Не получилось отвергнуть нулевую гипотезу\")"
   ]
  },
  {
   "cell_type": "markdown",
   "metadata": {},
   "source": [
    "**Проведённый статистический тест позволяет отвергнуть нулевую гипотезу. Но утверждать, что средние пользовательские рейтинги жанров `Action` и `Sports` разные на его основании мы не можем.**"
   ]
  },
  {
   "cell_type": "markdown",
   "metadata": {},
   "source": [
    "*По итогам проведённого исследования можем сделать следующие заключения:*\n",
    "\n",
    "- Большая часть выпущенных игр в представленной выборке приходится на период с 2002 до 2016 года.\n",
    "\n",
    "- Периодичность \"жизненного\" цикла игровых платформ составляет 8-10 лет.\n",
    "\n",
    "- Перспективные платформы: `PS4, XOne, PSP`.\n",
    "\n",
    "*Вычисление коэффициентов корреляции Пирсона дало следующие результаты:*\n",
    "\n",
    "- Вычисление коэффициентов корреляции Пирсона дало следующие результаты:\n",
    "    - связь между оценкой пользователей и продажами минимальна или незначительна;\n",
    "    - совсем небольшая прямая связь между продажами и оценками критиков;\n",
    "    \n",
    "- Жанры-лидеры по представленности в выборке - `Action, Role-Playing, Sports, Shooter`.\n",
    "\n",
    "- Наиболее прибыльный жанр: `Shooter`.\n",
    "\n",
    "- В Северной Америке и Европе выбор игровых платформ схож, в Японии - игроки в целом отдают предпочтения другим приставкам.\n",
    "\n",
    "- Американские пользователи одинаково примерно в раной степени покупают игры двух лидирующих платформ: `PS4` и `XOne`.\n",
    "\n",
    "- В Европе явное предпочтение отдаётся `PS4`.\n",
    "\n",
    "- В Японии пользователи больше интересуются `Nintendo 3DS`.\n",
    "\n",
    "- Жанры-лидеры продаж в Северной Америке полностью совпадают с разницей в объёмах около 1.5 раза.\n",
    "\n",
    "- В Японии предпочитают жанр - `Role-Playing`;\n",
    "\n",
    "- Самый популярный жанр игр - `Action`.\n",
    "\n",
    "- В Северной Америке и Европе у наиболее популярных платформ стоит рейтинг M, но явной связи между рейтингом и популярностью не прослеживается.\n",
    "\n",
    "- В Японии у самых популярных платформ отсутствует рейтинг. Вероятно, это имеет отношение к тому, что присваиванием этих рейтингов занимается американская компания.\n",
    "\n",
    "*Проверка гипотез:*\n",
    "\n",
    "- Гипотеза не подтвердилась. Средние пользовательские рейтинги платформ `Xbox One` и `PC` разные.\n",
    "\n",
    "- Гипотеза подтвердилась. Средние пользовательские рейтинги жанров `Action` и `Sports` разные."
   ]
  }
 ],
 "metadata": {
  "ExecuteTimeLog": [
   {
    "duration": 1315,
    "start_time": "2023-02-01T14:25:53.075Z"
   },
   {
    "duration": 18,
    "start_time": "2023-02-01T14:27:37.132Z"
   },
   {
    "duration": 13,
    "start_time": "2023-02-01T14:27:43.502Z"
   },
   {
    "duration": 14,
    "start_time": "2023-02-01T14:27:47.543Z"
   },
   {
    "duration": 46,
    "start_time": "2023-02-01T14:34:31.132Z"
   },
   {
    "duration": 18,
    "start_time": "2023-02-01T14:34:32.958Z"
   },
   {
    "duration": 12,
    "start_time": "2023-02-01T14:35:37.690Z"
   },
   {
    "duration": 11,
    "start_time": "2023-02-01T14:35:44.649Z"
   },
   {
    "duration": 14,
    "start_time": "2023-02-01T14:35:52.226Z"
   },
   {
    "duration": 11,
    "start_time": "2023-02-01T14:36:00.146Z"
   },
   {
    "duration": 90,
    "start_time": "2023-02-01T14:38:08.231Z"
   },
   {
    "duration": 37,
    "start_time": "2023-02-01T14:38:19.180Z"
   },
   {
    "duration": 13,
    "start_time": "2023-02-01T14:48:09.917Z"
   },
   {
    "duration": 5,
    "start_time": "2023-02-01T14:58:14.714Z"
   },
   {
    "duration": 6,
    "start_time": "2023-02-01T14:58:22.100Z"
   },
   {
    "duration": 5,
    "start_time": "2023-02-01T14:58:24.338Z"
   },
   {
    "duration": 6,
    "start_time": "2023-02-01T15:17:11.675Z"
   },
   {
    "duration": 10,
    "start_time": "2023-02-01T15:19:29.110Z"
   },
   {
    "duration": 22,
    "start_time": "2023-02-01T15:24:30.170Z"
   },
   {
    "duration": 18,
    "start_time": "2023-02-01T15:28:52.359Z"
   },
   {
    "duration": 16,
    "start_time": "2023-02-01T15:33:03.611Z"
   },
   {
    "duration": 7,
    "start_time": "2023-02-01T15:33:25.266Z"
   },
   {
    "duration": 9,
    "start_time": "2023-02-01T15:33:51.005Z"
   },
   {
    "duration": 10,
    "start_time": "2023-02-01T15:34:10.141Z"
   },
   {
    "duration": 6,
    "start_time": "2023-02-01T15:35:05.527Z"
   },
   {
    "duration": 18,
    "start_time": "2023-02-01T15:35:21.761Z"
   },
   {
    "duration": 5,
    "start_time": "2023-02-01T15:53:10.924Z"
   },
   {
    "duration": 6,
    "start_time": "2023-02-01T15:53:29.961Z"
   },
   {
    "duration": 16,
    "start_time": "2023-02-01T15:53:38.661Z"
   },
   {
    "duration": 32,
    "start_time": "2023-02-01T15:54:12.897Z"
   },
   {
    "duration": 46,
    "start_time": "2023-02-01T15:54:30.035Z"
   },
   {
    "duration": 15,
    "start_time": "2023-02-01T15:54:31.330Z"
   },
   {
    "duration": 13,
    "start_time": "2023-02-01T15:54:32.768Z"
   },
   {
    "duration": 41,
    "start_time": "2023-02-01T15:54:34.361Z"
   },
   {
    "duration": 16,
    "start_time": "2023-02-01T15:54:36.716Z"
   },
   {
    "duration": 5,
    "start_time": "2023-02-01T15:54:38.001Z"
   },
   {
    "duration": 6,
    "start_time": "2023-02-01T15:54:39.342Z"
   },
   {
    "duration": 5,
    "start_time": "2023-02-01T15:54:40.821Z"
   },
   {
    "duration": 11,
    "start_time": "2023-02-01T15:54:42.098Z"
   },
   {
    "duration": 18,
    "start_time": "2023-02-01T15:54:45.560Z"
   },
   {
    "duration": 9,
    "start_time": "2023-02-01T15:54:47.397Z"
   },
   {
    "duration": 8,
    "start_time": "2023-02-01T15:54:48.459Z"
   },
   {
    "duration": 14,
    "start_time": "2023-02-01T15:54:49.199Z"
   },
   {
    "duration": 16,
    "start_time": "2023-02-01T15:54:53.901Z"
   },
   {
    "duration": 140,
    "start_time": "2023-02-01T15:58:16.412Z"
   },
   {
    "duration": 132,
    "start_time": "2023-02-01T15:58:24.104Z"
   },
   {
    "duration": 137,
    "start_time": "2023-02-01T15:58:31.840Z"
   },
   {
    "duration": 121,
    "start_time": "2023-02-01T15:58:36.541Z"
   },
   {
    "duration": 13,
    "start_time": "2023-02-01T16:15:20.616Z"
   },
   {
    "duration": 19,
    "start_time": "2023-02-01T16:15:33.708Z"
   },
   {
    "duration": 15,
    "start_time": "2023-02-01T16:15:42.235Z"
   },
   {
    "duration": 1600,
    "start_time": "2023-02-01T23:38:30.765Z"
   },
   {
    "duration": 25,
    "start_time": "2023-02-01T23:38:32.575Z"
   },
   {
    "duration": 14,
    "start_time": "2023-02-01T23:38:33.946Z"
   },
   {
    "duration": 56,
    "start_time": "2023-02-01T23:38:35.263Z"
   },
   {
    "duration": 14,
    "start_time": "2023-02-01T23:38:37.056Z"
   },
   {
    "duration": 5,
    "start_time": "2023-02-01T23:38:38.476Z"
   },
   {
    "duration": 5,
    "start_time": "2023-02-01T23:38:39.473Z"
   },
   {
    "duration": 5,
    "start_time": "2023-02-01T23:38:40.480Z"
   },
   {
    "duration": 10,
    "start_time": "2023-02-01T23:38:42.316Z"
   },
   {
    "duration": 17,
    "start_time": "2023-02-01T23:38:44.236Z"
   },
   {
    "duration": 11,
    "start_time": "2023-02-01T23:38:46.226Z"
   },
   {
    "duration": 8,
    "start_time": "2023-02-01T23:38:47.380Z"
   },
   {
    "duration": 16,
    "start_time": "2023-02-01T23:38:48.432Z"
   },
   {
    "duration": 19,
    "start_time": "2023-02-01T23:39:05.977Z"
   },
   {
    "duration": 155,
    "start_time": "2023-02-01T23:39:10.070Z"
   },
   {
    "duration": 16,
    "start_time": "2023-02-01T23:39:16.023Z"
   },
   {
    "duration": 1332,
    "start_time": "2023-02-01T23:41:34.962Z"
   },
   {
    "duration": 1273,
    "start_time": "2023-02-01T23:41:44.272Z"
   },
   {
    "duration": 140,
    "start_time": "2023-02-01T23:41:54.037Z"
   },
   {
    "duration": 203,
    "start_time": "2023-02-01T23:41:58.022Z"
   },
   {
    "duration": 123,
    "start_time": "2023-02-01T23:42:01.161Z"
   },
   {
    "duration": 23,
    "start_time": "2023-02-01T23:48:28.979Z"
   },
   {
    "duration": 98,
    "start_time": "2023-02-01T23:54:57.681Z"
   },
   {
    "duration": 4,
    "start_time": "2023-02-01T23:55:04.677Z"
   },
   {
    "duration": 134,
    "start_time": "2023-02-01T23:59:34.652Z"
   },
   {
    "duration": 131,
    "start_time": "2023-02-01T23:59:41.935Z"
   },
   {
    "duration": 124,
    "start_time": "2023-02-01T23:59:47.280Z"
   },
   {
    "duration": 120,
    "start_time": "2023-02-01T23:59:50.306Z"
   },
   {
    "duration": 124,
    "start_time": "2023-02-01T23:59:52.735Z"
   },
   {
    "duration": 123,
    "start_time": "2023-02-01T23:59:54.851Z"
   },
   {
    "duration": 137,
    "start_time": "2023-02-01T23:59:56.913Z"
   },
   {
    "duration": 14,
    "start_time": "2023-02-01T23:59:58.927Z"
   },
   {
    "duration": 136,
    "start_time": "2023-02-02T00:00:09.455Z"
   },
   {
    "duration": 12,
    "start_time": "2023-02-02T00:00:12.874Z"
   },
   {
    "duration": 134,
    "start_time": "2023-02-02T00:00:23.449Z"
   },
   {
    "duration": 135,
    "start_time": "2023-02-02T00:00:35.713Z"
   },
   {
    "duration": 136,
    "start_time": "2023-02-02T00:00:38.444Z"
   },
   {
    "duration": 86,
    "start_time": "2023-02-02T00:10:11.333Z"
   },
   {
    "duration": 99,
    "start_time": "2023-02-02T00:14:01.876Z"
   },
   {
    "duration": 69,
    "start_time": "2023-02-02T00:14:50.130Z"
   },
   {
    "duration": 12,
    "start_time": "2023-02-02T00:18:54.741Z"
   },
   {
    "duration": 382,
    "start_time": "2023-02-02T00:19:02.963Z"
   },
   {
    "duration": 311,
    "start_time": "2023-02-02T00:24:55.014Z"
   },
   {
    "duration": 37,
    "start_time": "2023-02-02T00:25:28.132Z"
   },
   {
    "duration": 291,
    "start_time": "2023-02-02T00:28:41.175Z"
   },
   {
    "duration": 260,
    "start_time": "2023-02-02T00:28:53.694Z"
   },
   {
    "duration": 13,
    "start_time": "2023-02-02T00:30:19.004Z"
   },
   {
    "duration": 12,
    "start_time": "2023-02-02T00:36:23.770Z"
   },
   {
    "duration": 11,
    "start_time": "2023-02-02T00:40:49.547Z"
   },
   {
    "duration": 12,
    "start_time": "2023-02-02T00:46:22.204Z"
   },
   {
    "duration": 314,
    "start_time": "2023-02-02T00:46:34.145Z"
   },
   {
    "duration": 339,
    "start_time": "2023-02-02T00:46:38.475Z"
   },
   {
    "duration": 9,
    "start_time": "2023-02-02T00:47:33.160Z"
   },
   {
    "duration": 13,
    "start_time": "2023-02-02T00:47:47.657Z"
   },
   {
    "duration": 40,
    "start_time": "2023-02-02T00:53:28.091Z"
   },
   {
    "duration": 14,
    "start_time": "2023-02-02T01:07:31.737Z"
   },
   {
    "duration": 30,
    "start_time": "2023-02-02T01:09:18.242Z"
   },
   {
    "duration": 32,
    "start_time": "2023-02-02T01:12:39.853Z"
   },
   {
    "duration": 72,
    "start_time": "2023-02-02T01:15:35.183Z"
   },
   {
    "duration": 8,
    "start_time": "2023-02-02T01:25:01.923Z"
   },
   {
    "duration": 8,
    "start_time": "2023-02-02T01:26:49.847Z"
   },
   {
    "duration": 1528,
    "start_time": "2023-02-02T06:18:27.707Z"
   },
   {
    "duration": 23,
    "start_time": "2023-02-02T06:18:29.238Z"
   },
   {
    "duration": 19,
    "start_time": "2023-02-02T06:18:29.263Z"
   },
   {
    "duration": 46,
    "start_time": "2023-02-02T06:18:29.284Z"
   },
   {
    "duration": 15,
    "start_time": "2023-02-02T06:18:29.333Z"
   },
   {
    "duration": 7,
    "start_time": "2023-02-02T06:18:29.350Z"
   },
   {
    "duration": 6,
    "start_time": "2023-02-02T06:18:29.359Z"
   },
   {
    "duration": 15,
    "start_time": "2023-02-02T06:18:29.392Z"
   },
   {
    "duration": 14,
    "start_time": "2023-02-02T06:18:29.409Z"
   },
   {
    "duration": 25,
    "start_time": "2023-02-02T06:18:29.426Z"
   },
   {
    "duration": 10,
    "start_time": "2023-02-02T06:18:29.453Z"
   },
   {
    "duration": 8,
    "start_time": "2023-02-02T06:18:29.465Z"
   },
   {
    "duration": 43,
    "start_time": "2023-02-02T06:18:29.474Z"
   },
   {
    "duration": 17,
    "start_time": "2023-02-02T06:18:29.519Z"
   },
   {
    "duration": 171,
    "start_time": "2023-02-02T06:18:29.538Z"
   },
   {
    "duration": 16,
    "start_time": "2023-02-02T06:18:29.711Z"
   },
   {
    "duration": 1376,
    "start_time": "2023-02-02T06:18:29.729Z"
   },
   {
    "duration": 15,
    "start_time": "2023-02-02T06:18:31.107Z"
   },
   {
    "duration": 11,
    "start_time": "2023-02-02T06:18:31.124Z"
   },
   {
    "duration": 171,
    "start_time": "2023-02-02T06:18:31.137Z"
   },
   {
    "duration": 125,
    "start_time": "2023-02-02T06:18:31.310Z"
   },
   {
    "duration": 162,
    "start_time": "2023-02-02T06:18:31.437Z"
   },
   {
    "duration": 139,
    "start_time": "2023-02-02T06:18:31.604Z"
   },
   {
    "duration": 212,
    "start_time": "2023-02-02T06:18:31.745Z"
   },
   {
    "duration": 166,
    "start_time": "2023-02-02T06:18:31.958Z"
   },
   {
    "duration": 162,
    "start_time": "2023-02-02T06:18:32.126Z"
   },
   {
    "duration": 151,
    "start_time": "2023-02-02T06:18:32.291Z"
   },
   {
    "duration": 148,
    "start_time": "2023-02-02T06:18:32.446Z"
   },
   {
    "duration": 130,
    "start_time": "2023-02-02T06:18:32.606Z"
   },
   {
    "duration": 323,
    "start_time": "2023-02-02T06:18:32.738Z"
   },
   {
    "duration": 46,
    "start_time": "2023-02-02T06:18:33.062Z"
   },
   {
    "duration": 322,
    "start_time": "2023-02-02T06:18:33.110Z"
   },
   {
    "duration": 12,
    "start_time": "2023-02-02T06:18:33.434Z"
   },
   {
    "duration": 12,
    "start_time": "2023-02-02T06:18:33.448Z"
   },
   {
    "duration": 392,
    "start_time": "2023-02-02T06:18:33.461Z"
   },
   {
    "duration": 16,
    "start_time": "2023-02-02T06:18:33.855Z"
   },
   {
    "duration": 57,
    "start_time": "2023-02-02T06:18:33.873Z"
   },
   {
    "duration": 16,
    "start_time": "2023-02-02T06:18:33.931Z"
   },
   {
    "duration": 67,
    "start_time": "2023-02-02T06:18:33.949Z"
   },
   {
    "duration": 32,
    "start_time": "2023-02-02T06:18:34.018Z"
   },
   {
    "duration": 59,
    "start_time": "2023-02-02T06:18:34.052Z"
   },
   {
    "duration": 8,
    "start_time": "2023-02-02T06:18:34.112Z"
   },
   {
    "duration": 14,
    "start_time": "2023-02-02T06:18:34.122Z"
   },
   {
    "duration": 52,
    "start_time": "2023-02-02T14:35:50.154Z"
   },
   {
    "duration": 1319,
    "start_time": "2023-02-02T14:35:53.757Z"
   },
   {
    "duration": 212,
    "start_time": "2023-02-02T14:35:55.438Z"
   },
   {
    "duration": 24,
    "start_time": "2023-02-02T14:35:58.144Z"
   },
   {
    "duration": 15,
    "start_time": "2023-02-02T14:36:00.361Z"
   },
   {
    "duration": 42,
    "start_time": "2023-02-02T14:36:01.910Z"
   },
   {
    "duration": 15,
    "start_time": "2023-02-02T14:36:10.148Z"
   },
   {
    "duration": 6,
    "start_time": "2023-02-02T14:36:13.028Z"
   },
   {
    "duration": 6,
    "start_time": "2023-02-02T14:36:14.381Z"
   },
   {
    "duration": 5,
    "start_time": "2023-02-02T14:36:15.759Z"
   },
   {
    "duration": 10,
    "start_time": "2023-02-02T14:36:21.792Z"
   },
   {
    "duration": 27,
    "start_time": "2023-02-02T14:36:25.328Z"
   },
   {
    "duration": 13,
    "start_time": "2023-02-02T14:36:27.967Z"
   },
   {
    "duration": 10,
    "start_time": "2023-02-02T14:36:28.878Z"
   },
   {
    "duration": 15,
    "start_time": "2023-02-02T14:36:30.645Z"
   },
   {
    "duration": 16,
    "start_time": "2023-02-02T14:36:34.076Z"
   },
   {
    "duration": 152,
    "start_time": "2023-02-02T14:36:36.854Z"
   },
   {
    "duration": 1330,
    "start_time": "2023-02-02T18:48:25.280Z"
   },
   {
    "duration": 190,
    "start_time": "2023-02-02T18:48:27.307Z"
   },
   {
    "duration": 18,
    "start_time": "2023-02-02T18:48:30.692Z"
   },
   {
    "duration": 14,
    "start_time": "2023-02-02T18:48:33.012Z"
   },
   {
    "duration": 39,
    "start_time": "2023-02-02T18:48:35.532Z"
   },
   {
    "duration": 14,
    "start_time": "2023-02-02T18:48:39.255Z"
   },
   {
    "duration": 5,
    "start_time": "2023-02-02T18:48:41.870Z"
   },
   {
    "duration": 5,
    "start_time": "2023-02-02T18:48:43.672Z"
   },
   {
    "duration": 5,
    "start_time": "2023-02-02T18:48:45.112Z"
   },
   {
    "duration": 10,
    "start_time": "2023-02-02T18:48:46.974Z"
   },
   {
    "duration": 17,
    "start_time": "2023-02-02T18:49:05.896Z"
   },
   {
    "duration": 10,
    "start_time": "2023-02-02T18:49:09.051Z"
   },
   {
    "duration": 8,
    "start_time": "2023-02-02T18:49:10.662Z"
   },
   {
    "duration": 14,
    "start_time": "2023-02-02T18:49:12.972Z"
   },
   {
    "duration": 17,
    "start_time": "2023-02-02T18:49:17.167Z"
   },
   {
    "duration": 131,
    "start_time": "2023-02-02T18:49:23.108Z"
   },
   {
    "duration": 222,
    "start_time": "2023-02-02T18:51:46.416Z"
   },
   {
    "duration": 136,
    "start_time": "2023-02-02T18:51:59.081Z"
   },
   {
    "duration": 273,
    "start_time": "2023-02-02T18:54:31.725Z"
   },
   {
    "duration": 163,
    "start_time": "2023-02-02T18:54:47.752Z"
   },
   {
    "duration": 129,
    "start_time": "2023-02-02T18:54:57.847Z"
   },
   {
    "duration": 276,
    "start_time": "2023-02-02T18:55:14.323Z"
   },
   {
    "duration": 131,
    "start_time": "2023-02-02T18:57:25.169Z"
   },
   {
    "duration": 287,
    "start_time": "2023-02-02T18:59:00.091Z"
   },
   {
    "duration": 157,
    "start_time": "2023-02-02T18:59:30.354Z"
   },
   {
    "duration": 131,
    "start_time": "2023-02-02T18:59:46.487Z"
   },
   {
    "duration": 165,
    "start_time": "2023-02-02T18:59:55.799Z"
   },
   {
    "duration": 8,
    "start_time": "2023-02-02T19:00:09.703Z"
   },
   {
    "duration": 122,
    "start_time": "2023-02-02T19:00:14.299Z"
   },
   {
    "duration": 140,
    "start_time": "2023-02-02T19:03:16.299Z"
   },
   {
    "duration": 132,
    "start_time": "2023-02-02T19:04:34.558Z"
   },
   {
    "duration": 123,
    "start_time": "2023-02-02T19:04:43.921Z"
   },
   {
    "duration": 10,
    "start_time": "2023-02-02T19:06:46.293Z"
   },
   {
    "duration": 10,
    "start_time": "2023-02-02T19:07:01.253Z"
   },
   {
    "duration": 1449,
    "start_time": "2023-02-02T19:13:34.654Z"
   },
   {
    "duration": 1435,
    "start_time": "2023-02-02T19:14:00.000Z"
   },
   {
    "duration": 74,
    "start_time": "2023-02-02T19:14:18.491Z"
   },
   {
    "duration": 1358,
    "start_time": "2023-02-02T19:14:22.801Z"
   },
   {
    "duration": 1330,
    "start_time": "2023-02-02T19:14:39.115Z"
   },
   {
    "duration": 76,
    "start_time": "2023-02-02T19:14:53.223Z"
   },
   {
    "duration": 1322,
    "start_time": "2023-02-02T19:14:56.995Z"
   },
   {
    "duration": 1319,
    "start_time": "2023-02-02T19:15:24.646Z"
   },
   {
    "duration": 13,
    "start_time": "2023-02-02T19:15:58.120Z"
   },
   {
    "duration": 5,
    "start_time": "2023-02-02T19:16:00.671Z"
   },
   {
    "duration": 130,
    "start_time": "2023-02-02T19:16:02.885Z"
   },
   {
    "duration": 21,
    "start_time": "2023-02-02T19:34:16.707Z"
   },
   {
    "duration": 175,
    "start_time": "2023-02-02T19:36:42.142Z"
   },
   {
    "duration": 262,
    "start_time": "2023-02-02T19:36:45.803Z"
   },
   {
    "duration": 179,
    "start_time": "2023-02-02T19:37:02.329Z"
   },
   {
    "duration": 217,
    "start_time": "2023-02-02T19:37:06.525Z"
   },
   {
    "duration": 191,
    "start_time": "2023-02-02T19:37:17.222Z"
   },
   {
    "duration": 16,
    "start_time": "2023-02-02T19:39:04.989Z"
   },
   {
    "duration": 240,
    "start_time": "2023-02-02T19:40:00.428Z"
   },
   {
    "duration": 227,
    "start_time": "2023-02-02T19:40:15.502Z"
   },
   {
    "duration": 245,
    "start_time": "2023-02-02T19:41:19.061Z"
   },
   {
    "duration": 275,
    "start_time": "2023-02-02T19:53:13.048Z"
   },
   {
    "duration": 47,
    "start_time": "2023-02-02T19:53:16.598Z"
   },
   {
    "duration": 282,
    "start_time": "2023-02-02T19:53:19.894Z"
   },
   {
    "duration": 12,
    "start_time": "2023-02-02T19:53:22.129Z"
   },
   {
    "duration": 14,
    "start_time": "2023-02-02T19:53:26.052Z"
   },
   {
    "duration": 279,
    "start_time": "2023-02-02T19:53:51.367Z"
   },
   {
    "duration": 16,
    "start_time": "2023-02-02T19:53:54.919Z"
   },
   {
    "duration": 412,
    "start_time": "2023-02-02T19:54:33.672Z"
   },
   {
    "duration": 338,
    "start_time": "2023-02-02T19:54:36.171Z"
   },
   {
    "duration": 13,
    "start_time": "2023-02-02T19:54:38.790Z"
   },
   {
    "duration": 42,
    "start_time": "2023-02-02T19:54:41.682Z"
   },
   {
    "duration": 13,
    "start_time": "2023-02-02T19:54:48.569Z"
   },
   {
    "duration": 30,
    "start_time": "2023-02-02T19:54:50.444Z"
   },
   {
    "duration": 13,
    "start_time": "2023-02-02T19:57:35.726Z"
   },
   {
    "duration": 18,
    "start_time": "2023-02-02T19:57:53.674Z"
   },
   {
    "duration": 16,
    "start_time": "2023-02-02T19:58:42.779Z"
   },
   {
    "duration": 369,
    "start_time": "2023-02-02T19:59:26.480Z"
   },
   {
    "duration": 620,
    "start_time": "2023-02-02T20:00:07.896Z"
   },
   {
    "duration": 279,
    "start_time": "2023-02-02T20:00:17.623Z"
   },
   {
    "duration": 296,
    "start_time": "2023-02-02T20:00:22.604Z"
   },
   {
    "duration": 345,
    "start_time": "2023-02-02T20:01:21.446Z"
   },
   {
    "duration": 362,
    "start_time": "2023-02-02T20:01:36.688Z"
   },
   {
    "duration": 350,
    "start_time": "2023-02-02T20:01:40.078Z"
   },
   {
    "duration": 313,
    "start_time": "2023-02-02T20:02:03.371Z"
   },
   {
    "duration": 342,
    "start_time": "2023-02-02T20:02:23.482Z"
   },
   {
    "duration": 258,
    "start_time": "2023-02-02T20:02:31.350Z"
   },
   {
    "duration": 328,
    "start_time": "2023-02-02T20:03:13.543Z"
   },
   {
    "duration": 274,
    "start_time": "2023-02-02T20:03:22.736Z"
   },
   {
    "duration": 253,
    "start_time": "2023-02-02T20:04:14.089Z"
   },
   {
    "duration": 247,
    "start_time": "2023-02-02T20:04:37.233Z"
   },
   {
    "duration": 263,
    "start_time": "2023-02-02T20:04:42.185Z"
   },
   {
    "duration": 287,
    "start_time": "2023-02-02T20:10:02.951Z"
   },
   {
    "duration": 257,
    "start_time": "2023-02-02T20:10:08.735Z"
   },
   {
    "duration": 254,
    "start_time": "2023-02-02T20:10:14.746Z"
   },
   {
    "duration": 363,
    "start_time": "2023-02-02T20:11:15.522Z"
   },
   {
    "duration": 334,
    "start_time": "2023-02-02T20:11:38.274Z"
   },
   {
    "duration": 422,
    "start_time": "2023-02-02T20:11:55.727Z"
   },
   {
    "duration": 4,
    "start_time": "2023-02-02T20:19:50.788Z"
   },
   {
    "duration": 3,
    "start_time": "2023-02-02T20:19:53.337Z"
   },
   {
    "duration": 3,
    "start_time": "2023-02-02T20:20:14.219Z"
   },
   {
    "duration": 12,
    "start_time": "2023-02-02T20:21:00.042Z"
   },
   {
    "duration": 10,
    "start_time": "2023-02-02T20:21:02.518Z"
   },
   {
    "duration": 15,
    "start_time": "2023-02-02T20:21:12.785Z"
   }
  ],
  "kernelspec": {
   "display_name": "Python 3 (ipykernel)",
   "language": "python",
   "name": "python3"
  },
  "language_info": {
   "codemirror_mode": {
    "name": "ipython",
    "version": 3
   },
   "file_extension": ".py",
   "mimetype": "text/x-python",
   "name": "python",
   "nbconvert_exporter": "python",
   "pygments_lexer": "ipython3",
   "version": "3.9.5"
  },
  "toc": {
   "base_numbering": 1,
   "nav_menu": {},
   "number_sections": true,
   "sideBar": true,
   "skip_h1_title": true,
   "title_cell": "Table of Contents",
   "title_sidebar": "Contents",
   "toc_cell": false,
   "toc_position": {},
   "toc_section_display": true,
   "toc_window_display": false
  }
 },
 "nbformat": 4,
 "nbformat_minor": 2
}
